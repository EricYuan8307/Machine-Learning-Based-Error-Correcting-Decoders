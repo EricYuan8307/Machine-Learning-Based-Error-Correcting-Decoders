{
 "cells": [
  {
   "cell_type": "code",
   "execution_count": 20,
   "id": "e908d341ef34cea4",
   "metadata": {
    "collapsed": false,
    "ExecuteTime": {
     "end_time": "2024-01-11T14:46:49.373788Z",
     "start_time": "2024-01-11T14:46:49.364896Z"
    }
   },
   "outputs": [
    {
     "name": "stdout",
     "output_type": "stream",
     "text": [
      "tensor([[[0.9523, 0.2015],\n",
      "         [0.0052, 0.2126],\n",
      "         [0.0050, 0.0942],\n",
      "         [0.0086, 0.1016],\n",
      "         [0.0092, 0.1486],\n",
      "         [0.0130, 0.1470],\n",
      "         [0.0068, 0.0944]]])\n"
     ]
    }
   ],
   "source": [
    "import torch\n",
    "import torch.nn.functional as F\n",
    "import torch.nn as nn\n",
    "import torch.optim as optim\n",
    "\n",
    "data = torch.tensor([[[4.698,  0.4549],\n",
    "         [-0.5123,  0.5084],\n",
    "         [-0.5512, -0.3060],\n",
    "         [-0.0137, -0.2300],\n",
    "         [ 0.0530,  0.1503],\n",
    "         [ 0.4029,  0.1396],\n",
    "         [-0.2445, -0.3032]]], dtype=torch.float)\n",
    "# print(data.shape)\n",
    "softmax = nn.Softmax(dim=1)\n",
    "result = softmax(data)\n",
    "print(result)"
   ]
  },
  {
   "cell_type": "code",
   "outputs": [
    {
     "name": "stdout",
     "output_type": "stream",
     "text": [
      "tensor([[[0.0549, 0.0588, 0.0440, 0.0614, 0.0735, 0.0928, 0.0681, 0.0682,\n",
      "          0.0815, 0.0514, 0.0517, 0.0564, 0.0675, 0.0469, 0.0712, 0.0518]],\n",
      "\n",
      "        [[0.0521, 0.0348, 0.0362, 0.0725, 0.0479, 0.1302, 0.0361, 0.0780,\n",
      "          0.0524, 0.0931, 0.0713, 0.0284, 0.0959, 0.0393, 0.0585, 0.0732]]])\n"
     ]
    }
   ],
   "source": [
    "import torch\n",
    "import torch.nn.functional as F\n",
    "import torch.nn as nn\n",
    "import torch.optim as optim\n",
    "\n",
    "data = torch.tensor([[[-0.0776, -0.0103, -0.3004,  0.0334,  0.2138,  0.4467,  0.1378,\n",
    "           0.1384,  0.3172, -0.1443, -0.1391, -0.0514,  0.1282, -0.2367,\n",
    "           0.1822, -0.1369]],\n",
    "\n",
    "        [[-0.0902, -0.4935, -0.4524,  0.2405, -0.1728,  0.8269, -0.4566,\n",
    "           0.3143, -0.0843,  0.4916,  0.2250, -0.6951,  0.5210, -0.3723,\n",
    "           0.0264,  0.2510]]], dtype=torch.float)\n",
    "\n",
    "\n",
    "# print(data.shape)\n",
    "softmax = nn.Softmax(dim=2)\n",
    "result = softmax(data)\n",
    "print(result)\n"
   ],
   "metadata": {
    "collapsed": false,
    "ExecuteTime": {
     "end_time": "2024-01-13T20:22:55.769167Z",
     "start_time": "2024-01-13T20:22:55.758691Z"
    }
   },
   "id": "51e37874a2e20da8",
   "execution_count": 5
  },
  {
   "cell_type": "code",
   "outputs": [
    {
     "name": "stdout",
     "output_type": "stream",
     "text": [
      "Binary: tensor([[[1., 0., 1., 0.]],\n",
      "\n",
      "        [[1., 0., 1., 1.]],\n",
      "\n",
      "        [[0., 0., 0., 1.]],\n",
      "\n",
      "        [[1., 0., 0., 1.]]])\n",
      "Decimal: tensor([[ 5.],\n",
      "        [13.],\n",
      "        [ 8.],\n",
      "        [ 9.]])\n"
     ]
    }
   ],
   "source": [
    "import torch\n",
    "\n",
    "# 二进制数值（例如，1010）\n",
    "binary_tensor = torch.randint(0, 2, size=(4, 1, 4), dtype=torch.float)\n",
    "print(\"Binary:\", binary_tensor)\n",
    "\n",
    "# 权重矩阵，用于将二进制数转换为十进制\n",
    "decimal_values = torch.sum(binary_tensor * (2**torch.arange(binary_tensor.shape[-1], dtype=torch.float)), dim=-1)\n",
    "# decimal_values = decimal_values.squeeze()\n",
    "\n",
    "print(\"Decimal:\", decimal_values)\n"
   ],
   "metadata": {
    "collapsed": false,
    "ExecuteTime": {
     "end_time": "2024-01-13T15:45:13.921693Z",
     "start_time": "2024-01-13T15:45:13.912899Z"
    }
   },
   "id": "4601d8ae7f59841",
   "execution_count": 21
  },
  {
   "cell_type": "code",
   "outputs": [],
   "source": [
    "# Generate input information for training\n",
    "\n",
    "# Generation of the information sequence\n",
    "nr_codewords = 16 \n",
    "bits_info = torch.randint(0, 2, (nr_codewords, 4))\n",
    "G = torch.tensor([\n",
    "            [1, 1, 0, 1],\n",
    "            [1, 0, 1, 1],\n",
    "            [1, 0, 0, 0],\n",
    "            [0, 1, 1, 1],\n",
    "            [0, 1, 0, 0],\n",
    "            [0, 0, 1, 0],\n",
    "            [0, 0, 0, 1],], dtype=torch.float)\n",
    "\n",
    "# Encode\n",
    "codewords = torch.matmul(bits_info, G) % 2\n",
    "\n",
    "# Find labels corresponding to codewords\n",
    "labels = torch.empty(nr_codewords, 1, dtype=int)\n",
    "for i in range(codewords.shape[0]):\n",
    "    # Compute the sum of matching elements for each column\n",
    "    sum_matching = torch.sum(codewords[i, :] == Cb, dim=1)\n",
    "    # Find the index of the column in Cb with the maximum sum\n",
    "    label = torch.argmax(sum_matching)\n",
    "    labels[i] = label\n",
    "\n",
    "labels = labels.repeat(len(SNRs), 1)\n",
    "\n",
    "# BPSK modulation\n",
    "s = 2 * codewords - 1\n",
    "\n",
    "# AWGN Channel\n",
    "for idx_SNR in range(len(SNRs)):\n",
    "    SNR = SNRs[idx_SNR]\n",
    "    SNRlin = 10**(SNR / 10)\n",
    "\n",
    "    # Noise generation\n",
    "    noise = torch.randn(s.shape)\n",
    "\n",
    "    # Scale the noise power\n",
    "    n = torch.sqrt(1 / (2 * SNRlin)) * noise\n",
    "\n",
    "    # Add AWGN\n",
    "    y[:, :, idx_SNR] = s + n\n",
    "    \n",
    "    \n",
    "# Reshape the received signal y to (number_of_codewords * length(SNRs))x7\n",
    "yresh = torch.reshape(y, (len(SNRs) * nr_codewords, cdw_length))\n",
    "\n",
    "# Permutation\n",
    "perm = np.random.permutation(yresh.shape[0])\n",
    "shuffledy = yresh[perm, :]\n",
    "shuflabels = labels[perm, :]"
   ],
   "metadata": {
    "collapsed": false
   },
   "id": "c8387df9e56c2e2"
  },
  {
   "cell_type": "code",
   "outputs": [],
   "source": [
    "for element_idx, inputs in enumerate(y):  # Assuming inputs is [batch_size, num_elements, ...]\n",
    "              for idx_cdw, input_d in enumerate(inputs):\n",
    "                  spike_trains_gen[element_idx, idx_cdw*xsize:(idx_cdw+1)*xsize, :] = spikeEncoder(input_d, num_steps)\n",
    " "
   ],
   "metadata": {
    "collapsed": false
   },
   "id": "41ec669e6272e96f"
  }
 ],
 "metadata": {
  "kernelspec": {
   "display_name": "Python 3",
   "language": "python",
   "name": "python3"
  },
  "language_info": {
   "codemirror_mode": {
    "name": "ipython",
    "version": 3
   },
   "file_extension": ".py",
   "mimetype": "text/x-python",
   "name": "python",
   "nbconvert_exporter": "python",
   "pygments_lexer": "ipython3",
   "version": "3.9.18"
  }
 },
 "nbformat": 4,
 "nbformat_minor": 5
}
