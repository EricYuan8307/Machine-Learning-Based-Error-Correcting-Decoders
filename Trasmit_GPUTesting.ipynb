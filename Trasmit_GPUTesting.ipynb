{
  "cells": [
    {
      "cell_type": "code",
      "execution_count": 11,
      "id": "initial_id",
      "metadata": {
        "collapsed": true,
        "ExecuteTime": {
          "end_time": "2023-12-12T10:05:38.691720Z",
          "start_time": "2023-12-12T10:05:38.675835Z"
        },
        "id": "initial_id"
      },
      "outputs": [],
      "source": [
        "import matplotlib.pyplot as plt\n",
        "import torch\n",
        "import torch.nn as nn\n",
        "import torch.optim as optim\n",
        "import time"
      ]
    },
    {
      "cell_type": "code",
      "execution_count": 20,
      "outputs": [
        {
          "output_type": "stream",
          "name": "stdout",
          "text": [
            "torch.Size([4, 1, 1000000])\n"
          ]
        }
      ],
      "source": [
        "# Code Generation\n",
        "nr_codewords = int(1e6)\n",
        "bits_info = torch.randint(0, 2, size=(4, 1, 1000000), dtype=torch.int)\n",
        "\n",
        "\n",
        "print(bits_info.shape)"
      ],
      "metadata": {
        "ExecuteTime": {
          "end_time": "2023-12-12T10:05:39.317610Z",
          "start_time": "2023-12-12T10:05:39.295988Z"
        },
        "colab": {
          "base_uri": "https://localhost:8080/"
        },
        "id": "7b31da2dd38f4534",
        "outputId": "941e26ab-ff67-47b7-bf33-df31f8d4fd03"
      },
      "id": "7b31da2dd38f4534"
    },
    {
      "cell_type": "markdown",
      "source": [
        "Hamming(7,4) Encoder"
      ],
      "metadata": {
        "collapsed": false,
        "id": "784df2c8e94a416e"
      },
      "id": "784df2c8e94a416e"
    },
    {
      "cell_type": "code",
      "execution_count": 23,
      "outputs": [],
      "source": [
        "class hamming_encode(torch.nn.Module):\n",
        "    def __init__(self):\n",
        "        \"\"\"\n",
        "            Use Hamming(7,4) to encode the data.\n",
        "\n",
        "        Args:\n",
        "            data: data received from the Hamming(7,4) encoder(Tensor)\n",
        "            generator matrix: generate the parity code\n",
        "\n",
        "        Returns:\n",
        "            encoded data: 4 bits original info with 3 parity code.\n",
        "        \"\"\"\n",
        "        super(hamming_encode, self).__init__()\n",
        "\n",
        "        # Define the generator matrix for Hamming(7,4)\n",
        "        self.generator_matrix = torch.tensor([\n",
        "            [1, 0, 0, 0],\n",
        "            [0, 1, 0, 0],\n",
        "            [0, 0, 1, 0],\n",
        "            [0, 0, 0, 1],\n",
        "            [1, 1, 0, 1],\n",
        "            [1, 0, 1, 1],\n",
        "            [0, 1, 1, 1],\n",
        "        ], dtype=torch.int)\n",
        "\n",
        "    def forward(self, input_data):\n",
        "        # Ensure input_data has shape (batch_size, 4)\n",
        "        # assert input_data.size(1) == self.generator_matrix.shape[1], \"Input data must have same generator matrix row number bits.\"\n",
        "\n",
        "        # Perform matrix multiplication to encode the data\n",
        "        result_tensor = (self.generator_matrix @ input_data.squeeze(1)).unsqueeze(1) % 2\n",
        "\n",
        "        return result_tensor"
      ],
      "metadata": {
        "ExecuteTime": {
          "end_time": "2023-12-12T10:05:39.698299Z",
          "start_time": "2023-12-12T10:05:39.693681Z"
        },
        "id": "134dff35e9552bc9"
      },
      "id": "134dff35e9552bc9"
    },
    {
      "cell_type": "code",
      "execution_count": 24,
      "outputs": [
        {
          "output_type": "stream",
          "name": "stdout",
          "text": [
            "tensor([[[1, 0, 1,  ..., 1, 1, 0]],\n",
            "\n",
            "        [[1, 1, 1,  ..., 0, 0, 1]],\n",
            "\n",
            "        [[1, 0, 1,  ..., 0, 0, 0]],\n",
            "\n",
            "        ...,\n",
            "\n",
            "        [[0, 1, 0,  ..., 0, 0, 0]],\n",
            "\n",
            "        [[0, 0, 0,  ..., 0, 0, 1]],\n",
            "\n",
            "        [[0, 1, 0,  ..., 1, 1, 0]]], dtype=torch.int32)\n"
          ]
        }
      ],
      "source": [
        "encoder = hamming_encode()\n",
        "encoded_codeword = encoder(bits_info)\n",
        "print(encoded_codeword)"
      ],
      "metadata": {
        "ExecuteTime": {
          "end_time": "2023-12-12T10:05:39.888027Z",
          "start_time": "2023-12-12T10:05:39.859261Z"
        },
        "colab": {
          "base_uri": "https://localhost:8080/"
        },
        "id": "7e7229a532d19f6",
        "outputId": "3d2f3232-43e7-4b63-974f-643c249450f8"
      },
      "id": "7e7229a532d19f6"
    },
    {
      "cell_type": "markdown",
      "source": [
        "BPSK Modulator + Noise"
      ],
      "metadata": {
        "collapsed": false,
        "id": "82e4a0c53752581c"
      },
      "id": "82e4a0c53752581c"
    },
    {
      "cell_type": "code",
      "execution_count": 25,
      "outputs": [],
      "source": [
        "class bpsk_modulator(torch.nn.Module):\n",
        "    def __init__(self):\n",
        "        \"\"\"\n",
        "        Use BPSK to compress the data, which is easily to transmit.\n",
        "\n",
        "        Args:\n",
        "            codeword: data received from the Hamming(7,4) encoder(Tensor)\n",
        "\n",
        "        Returns:\n",
        "            data: Tensor contain all data modulated and add noise\n",
        "        \"\"\"\n",
        "        super(bpsk_modulator, self).__init__()\n",
        "\n",
        "    def forward(self, codeword, snr_dB):\n",
        "\n",
        "        # data = torch.tensor(data, dtype=float)\n",
        "        data = codeword.to(dtype=torch.float)\n",
        "\n",
        "        for i in range(data.shape[0]):\n",
        "            bits = data[i]\n",
        "            bits = 2 * bits - 1\n",
        "\n",
        "            # Add Gaussian noise to the signal\n",
        "            noise_power = torch.tensor(10**(snr_dB / 10))\n",
        "            noise = torch.sqrt(1/(2*noise_power)) * torch.randn(len(bits))\n",
        "            noised_signal = bits + noise\n",
        "            # noised_signal = bits\n",
        "            data[i] = noised_signal\n",
        "\n",
        "\n",
        "        return data"
      ],
      "metadata": {
        "ExecuteTime": {
          "end_time": "2023-12-12T10:05:40.144985Z",
          "start_time": "2023-12-12T10:05:40.139603Z"
        },
        "id": "dea8f68cc3a6fb4f"
      },
      "id": "dea8f68cc3a6fb4f"
    },
    {
      "cell_type": "code",
      "execution_count": 26,
      "outputs": [
        {
          "output_type": "stream",
          "name": "stdout",
          "text": [
            "tensor([[[ 0.9273, -1.0727,  0.9273,  ...,  0.9273,  0.9273, -1.0727]],\n",
            "\n",
            "        [[ 1.2031,  1.2031,  1.2031,  ..., -0.7969, -0.7969,  1.2031]],\n",
            "\n",
            "        [[ 1.0634, -0.9366,  1.0634,  ..., -0.9366, -0.9366, -0.9366]],\n",
            "\n",
            "        ...,\n",
            "\n",
            "        [[-0.9872,  1.0128, -0.9872,  ..., -0.9872, -0.9872, -0.9872]],\n",
            "\n",
            "        [[-0.9193, -0.9193, -0.9193,  ..., -0.9193, -0.9193,  1.0807]],\n",
            "\n",
            "        [[-0.9627,  1.0373, -0.9627,  ...,  1.0373,  1.0373, -0.9627]]])\n"
          ]
        }
      ],
      "source": [
        "snr_dB = 15  # Signal-to-noise ratio in dB\n",
        "\n",
        "# Modulate the signal\n",
        "modulator = bpsk_modulator()\n",
        "modulated_noise_signal = modulator(encoded_codeword, snr_dB)\n",
        "print(modulated_noise_signal)"
      ],
      "metadata": {
        "ExecuteTime": {
          "end_time": "2023-12-12T10:06:02.038433Z",
          "start_time": "2023-12-12T10:05:40.283800Z"
        },
        "colab": {
          "base_uri": "https://localhost:8080/"
        },
        "id": "590464d8549a0582",
        "outputId": "8648f5a5-9b6a-4ea5-f5ed-54e70b98a1b1"
      },
      "id": "590464d8549a0582"
    },
    {
      "cell_type": "markdown",
      "source": [
        "LLR Log-likelihood\n",
        "y = s + n\n",
        "Assuming that \\( s \\) is equally likely to be 0 or 1, and \\( n \\) is Gaussian with zero mean and variance \\( N_0/2 \\), where \\( N_0 \\) is the noise power spectral density.\n"
      ],
      "metadata": {
        "collapsed": false,
        "id": "b788f8a37d6c4add"
      },
      "id": "b788f8a37d6c4add"
    },
    {
      "cell_type": "code",
      "execution_count": 27,
      "outputs": [],
      "source": [
        "def llr(signal, snr):\n",
        "    \"\"\"\n",
        "    Calculate Log Likelihood Ratio (LLR) for a simple binary symmetric channel.\n",
        "\n",
        "    Args:\n",
        "        signal (torch.Tensor): Received signal from BPSK.\n",
        "        noise_std (float): Standard deviation of the noise.\n",
        "\n",
        "    Returns:\n",
        "        llr: Log Likelihood Ratio (LLR) values.\n",
        "    \"\"\"\n",
        "\n",
        "    # Assuming Binary Phase Shift Keying (BPSK) modulation\n",
        "    noise_std = torch.sqrt(torch.tensor(10**(snr / 10)))\n",
        "\n",
        "    # Calculate the LLR\n",
        "    llr = 2 * signal * noise_std\n",
        "\n",
        "    # return llr_values, llr\n",
        "    return llr\n"
      ],
      "metadata": {
        "ExecuteTime": {
          "end_time": "2023-12-12T10:06:02.038943Z",
          "start_time": "2023-12-12T10:06:02.034918Z"
        },
        "id": "5db7bbc0fe148325"
      },
      "id": "5db7bbc0fe148325"
    },
    {
      "cell_type": "code",
      "execution_count": 28,
      "outputs": [
        {
          "output_type": "stream",
          "name": "stdout",
          "text": [
            "LLR values: tensor([[[ 10.4288, -12.0648,  10.4288,  ...,  10.4288,  10.4288, -12.0648]],\n",
            "\n",
            "        [[ 13.5309,  13.5309,  13.5309,  ...,  -8.9627,  -8.9627,  13.5309]],\n",
            "\n",
            "        [[ 11.9598, -10.5338,  11.9598,  ..., -10.5338, -10.5338, -10.5338]],\n",
            "\n",
            "        ...,\n",
            "\n",
            "        [[-11.1029,  11.3907, -11.1029,  ..., -11.1029, -11.1029, -11.1029]],\n",
            "\n",
            "        [[-10.3392, -10.3392, -10.3392,  ..., -10.3392, -10.3392,  12.1544]],\n",
            "\n",
            "        [[-10.8273,  11.6663, -10.8273,  ...,  11.6663,  11.6663, -10.8273]]])\n"
          ]
        }
      ],
      "source": [
        "llr_output = llr(modulated_noise_signal, snr_dB)\n",
        "print(\"LLR values:\", llr_output)"
      ],
      "metadata": {
        "ExecuteTime": {
          "end_time": "2023-12-12T10:06:02.046848Z",
          "start_time": "2023-12-12T10:06:02.039612Z"
        },
        "colab": {
          "base_uri": "https://localhost:8080/"
        },
        "id": "d02cfd5d533e6248",
        "outputId": "79523dc1-c5f6-46ea-c3b1-7593deb12a97"
      },
      "id": "d02cfd5d533e6248"
    },
    {
      "cell_type": "markdown",
      "source": [
        "LDPC Decoder\n",
        "\n",
        "Strange behavior recording:\n",
        "In 100 7-bit codewords, the speed on MPS(GPU) is slower than CPU. Reason unknown."
      ],
      "metadata": {
        "collapsed": false,
        "id": "73cde4898560777a"
      },
      "id": "73cde4898560777a"
    },
    {
      "cell_type": "code",
      "execution_count": 29,
      "outputs": [],
      "source": [
        "class LDPCBeliefPropagation(torch.nn.Module):\n",
        "    def __init__(self, H):\n",
        "        \"\"\"\n",
        "        LDPC Belief Propagation.\n",
        "\n",
        "        Args:\n",
        "            H: Low density parity code for building tanner graph.\n",
        "            llr: Log Likelihood Ratio (LLR) values. Only for 7-bit codeword.\n",
        "\n",
        "        Returns:\n",
        "            estimated_bits: the output result from belief propagation.\n",
        "        \"\"\"\n",
        "\n",
        "        super(LDPCBeliefPropagation, self).__init__()\n",
        "        self.H = H\n",
        "        self.num_check_nodes, self.num_variable_nodes = H.shape\n",
        "\n",
        "        # Initialize messages\n",
        "        self.messages_v_to_c = torch.ones((self.num_variable_nodes, self.num_check_nodes),dtype=torch.float)\n",
        "        self.messages_c_to_v = torch.zeros((self.num_check_nodes, self.num_variable_nodes),dtype=torch.float)\n",
        "\n",
        "    def forward(self, llr, max_iter):\n",
        "        for iteration in range(max_iter):\n",
        "            # Variable to check node messages\n",
        "            for i in range(self.num_variable_nodes):\n",
        "                for j in range(self.num_check_nodes):\n",
        "                    # Compute messages from variable to check nodes\n",
        "                    connected_checks = self.H[j, :] == 1\n",
        "                    product = torch.prod(torch.tanh(0.5 * self.messages_v_to_c[connected_checks, j]))\n",
        "                    self.messages_v_to_c[i, j] = torch.sign(llr[i]) * product\n",
        "\n",
        "            # Check to variable node messages\n",
        "            for i in range(self.num_check_nodes):\n",
        "                for j in range(self.num_variable_nodes):\n",
        "                    # Compute messages from check to variable nodes\n",
        "                    connected_vars = self.H[:, j] == 1\n",
        "                    sum_msgs = torch.sum(self.messages_c_to_v[connected_vars, i]) - self.messages_v_to_c[j, i]\n",
        "                    self.messages_c_to_v[i, j] = 2 * torch.atan(torch.exp(0.5 * sum_msgs))\n",
        "\n",
        "        # Calculate the final estimated bits and only take first four bits\n",
        "        estimated_bits = torch.sign(llr) * torch.prod(torch.tanh(0.5 * self.messages_c_to_v), dim=0)\n",
        "        estimated_bits = torch.where(estimated_bits>0, torch.tensor(1), torch.tensor(0))\n",
        "        estimated_bits = estimated_bits[0:4]\n",
        "\n",
        "\n",
        "        return estimated_bits\n"
      ],
      "metadata": {
        "ExecuteTime": {
          "end_time": "2023-12-12T10:06:02.055080Z",
          "start_time": "2023-12-12T10:06:02.047596Z"
        },
        "id": "43cceb3e29b1f0cb"
      },
      "id": "43cceb3e29b1f0cb"
    },
    {
      "cell_type": "code",
      "execution_count": 33,
      "outputs": [
        {
          "output_type": "error",
          "ename": "RuntimeError",
          "evalue": "ignored",
          "traceback": [
            "\u001b[0;31m---------------------------------------------------------------------------\u001b[0m",
            "\u001b[0;31mRuntimeError\u001b[0m                              Traceback (most recent call last)",
            "\u001b[0;32m<ipython-input-33-2eb4e86ce0ac>\u001b[0m in \u001b[0;36m<cell line: 16>\u001b[0;34m()\u001b[0m\n\u001b[1;32m     14\u001b[0m \u001b[0;31m#loop all the llr and get result.\u001b[0m\u001b[0;34m\u001b[0m\u001b[0;34m\u001b[0m\u001b[0m\n\u001b[1;32m     15\u001b[0m \u001b[0;34m\u001b[0m\u001b[0m\n\u001b[0;32m---> 16\u001b[0;31m \u001b[0mestimated_bits\u001b[0m \u001b[0;34m=\u001b[0m \u001b[0mldpc_bp\u001b[0m\u001b[0;34m(\u001b[0m\u001b[0mllr_output\u001b[0m\u001b[0;34m,\u001b[0m \u001b[0miter\u001b[0m\u001b[0;34m)\u001b[0m\u001b[0;34m\u001b[0m\u001b[0;34m\u001b[0m\u001b[0m\n\u001b[0m\u001b[1;32m     17\u001b[0m \u001b[0mfinal_result\u001b[0m \u001b[0;34m=\u001b[0m \u001b[0mestimated_bits\u001b[0m\u001b[0;34m\u001b[0m\u001b[0;34m\u001b[0m\u001b[0m\n\u001b[1;32m     18\u001b[0m \u001b[0;34m\u001b[0m\u001b[0m\n",
            "\u001b[0;32m/usr/local/lib/python3.10/dist-packages/torch/nn/modules/module.py\u001b[0m in \u001b[0;36m_wrapped_call_impl\u001b[0;34m(self, *args, **kwargs)\u001b[0m\n\u001b[1;32m   1516\u001b[0m             \u001b[0;32mreturn\u001b[0m \u001b[0mself\u001b[0m\u001b[0;34m.\u001b[0m\u001b[0m_compiled_call_impl\u001b[0m\u001b[0;34m(\u001b[0m\u001b[0;34m*\u001b[0m\u001b[0margs\u001b[0m\u001b[0;34m,\u001b[0m \u001b[0;34m**\u001b[0m\u001b[0mkwargs\u001b[0m\u001b[0;34m)\u001b[0m  \u001b[0;31m# type: ignore[misc]\u001b[0m\u001b[0;34m\u001b[0m\u001b[0;34m\u001b[0m\u001b[0m\n\u001b[1;32m   1517\u001b[0m         \u001b[0;32melse\u001b[0m\u001b[0;34m:\u001b[0m\u001b[0;34m\u001b[0m\u001b[0;34m\u001b[0m\u001b[0m\n\u001b[0;32m-> 1518\u001b[0;31m             \u001b[0;32mreturn\u001b[0m \u001b[0mself\u001b[0m\u001b[0;34m.\u001b[0m\u001b[0m_call_impl\u001b[0m\u001b[0;34m(\u001b[0m\u001b[0;34m*\u001b[0m\u001b[0margs\u001b[0m\u001b[0;34m,\u001b[0m \u001b[0;34m**\u001b[0m\u001b[0mkwargs\u001b[0m\u001b[0;34m)\u001b[0m\u001b[0;34m\u001b[0m\u001b[0;34m\u001b[0m\u001b[0m\n\u001b[0m\u001b[1;32m   1519\u001b[0m \u001b[0;34m\u001b[0m\u001b[0m\n\u001b[1;32m   1520\u001b[0m     \u001b[0;32mdef\u001b[0m \u001b[0m_call_impl\u001b[0m\u001b[0;34m(\u001b[0m\u001b[0mself\u001b[0m\u001b[0;34m,\u001b[0m \u001b[0;34m*\u001b[0m\u001b[0margs\u001b[0m\u001b[0;34m,\u001b[0m \u001b[0;34m**\u001b[0m\u001b[0mkwargs\u001b[0m\u001b[0;34m)\u001b[0m\u001b[0;34m:\u001b[0m\u001b[0;34m\u001b[0m\u001b[0;34m\u001b[0m\u001b[0m\n",
            "\u001b[0;32m/usr/local/lib/python3.10/dist-packages/torch/nn/modules/module.py\u001b[0m in \u001b[0;36m_call_impl\u001b[0;34m(self, *args, **kwargs)\u001b[0m\n\u001b[1;32m   1525\u001b[0m                 \u001b[0;32mor\u001b[0m \u001b[0m_global_backward_pre_hooks\u001b[0m \u001b[0;32mor\u001b[0m \u001b[0m_global_backward_hooks\u001b[0m\u001b[0;34m\u001b[0m\u001b[0;34m\u001b[0m\u001b[0m\n\u001b[1;32m   1526\u001b[0m                 or _global_forward_hooks or _global_forward_pre_hooks):\n\u001b[0;32m-> 1527\u001b[0;31m             \u001b[0;32mreturn\u001b[0m \u001b[0mforward_call\u001b[0m\u001b[0;34m(\u001b[0m\u001b[0;34m*\u001b[0m\u001b[0margs\u001b[0m\u001b[0;34m,\u001b[0m \u001b[0;34m**\u001b[0m\u001b[0mkwargs\u001b[0m\u001b[0;34m)\u001b[0m\u001b[0;34m\u001b[0m\u001b[0;34m\u001b[0m\u001b[0m\n\u001b[0m\u001b[1;32m   1528\u001b[0m \u001b[0;34m\u001b[0m\u001b[0m\n\u001b[1;32m   1529\u001b[0m         \u001b[0;32mtry\u001b[0m\u001b[0;34m:\u001b[0m\u001b[0;34m\u001b[0m\u001b[0;34m\u001b[0m\u001b[0m\n",
            "\u001b[0;32m<ipython-input-29-8f3437f013ce>\u001b[0m in \u001b[0;36mforward\u001b[0;34m(self, llr, max_iter)\u001b[0m\n\u001b[1;32m     28\u001b[0m                     \u001b[0mconnected_checks\u001b[0m \u001b[0;34m=\u001b[0m \u001b[0mself\u001b[0m\u001b[0;34m.\u001b[0m\u001b[0mH\u001b[0m\u001b[0;34m[\u001b[0m\u001b[0mj\u001b[0m\u001b[0;34m,\u001b[0m \u001b[0;34m:\u001b[0m\u001b[0;34m]\u001b[0m \u001b[0;34m==\u001b[0m \u001b[0;36m1\u001b[0m\u001b[0;34m\u001b[0m\u001b[0;34m\u001b[0m\u001b[0m\n\u001b[1;32m     29\u001b[0m                     \u001b[0mproduct\u001b[0m \u001b[0;34m=\u001b[0m \u001b[0mtorch\u001b[0m\u001b[0;34m.\u001b[0m\u001b[0mprod\u001b[0m\u001b[0;34m(\u001b[0m\u001b[0mtorch\u001b[0m\u001b[0;34m.\u001b[0m\u001b[0mtanh\u001b[0m\u001b[0;34m(\u001b[0m\u001b[0;36m0.5\u001b[0m \u001b[0;34m*\u001b[0m \u001b[0mself\u001b[0m\u001b[0;34m.\u001b[0m\u001b[0mmessages_v_to_c\u001b[0m\u001b[0;34m[\u001b[0m\u001b[0mconnected_checks\u001b[0m\u001b[0;34m,\u001b[0m \u001b[0mj\u001b[0m\u001b[0;34m]\u001b[0m\u001b[0;34m)\u001b[0m\u001b[0;34m)\u001b[0m\u001b[0;34m\u001b[0m\u001b[0;34m\u001b[0m\u001b[0m\n\u001b[0;32m---> 30\u001b[0;31m                     \u001b[0mself\u001b[0m\u001b[0;34m.\u001b[0m\u001b[0mmessages_v_to_c\u001b[0m\u001b[0;34m[\u001b[0m\u001b[0mi\u001b[0m\u001b[0;34m,\u001b[0m \u001b[0mj\u001b[0m\u001b[0;34m]\u001b[0m \u001b[0;34m=\u001b[0m \u001b[0mtorch\u001b[0m\u001b[0;34m.\u001b[0m\u001b[0msign\u001b[0m\u001b[0;34m(\u001b[0m\u001b[0mllr\u001b[0m\u001b[0;34m[\u001b[0m\u001b[0mi\u001b[0m\u001b[0;34m]\u001b[0m\u001b[0;34m)\u001b[0m \u001b[0;34m*\u001b[0m \u001b[0mproduct\u001b[0m\u001b[0;34m\u001b[0m\u001b[0;34m\u001b[0m\u001b[0m\n\u001b[0m\u001b[1;32m     31\u001b[0m \u001b[0;34m\u001b[0m\u001b[0m\n\u001b[1;32m     32\u001b[0m             \u001b[0;31m# Check to variable node messages\u001b[0m\u001b[0;34m\u001b[0m\u001b[0;34m\u001b[0m\u001b[0m\n",
            "\u001b[0;31mRuntimeError\u001b[0m: expand(torch.FloatTensor{[1000000]}, size=[]): the number of sizes provided (0) must be greater or equal to the number of dimensions in the tensor (1)"
          ]
        }
      ],
      "source": [
        "# Define LDPC parameters\n",
        "H = torch.tensor([ [1, 1, 1, 0, 0, 0, 0],\n",
        "                   [0, 0, 1, 1, 1, 0, 0],\n",
        "                   [0, 1, 0, 0, 1, 1, 0],\n",
        "                   [1, 0, 0, 1, 0, 0, 1],])\n",
        "iter = 10\n",
        "ldpc_bp = LDPCBeliefPropagation(H)\n",
        "n = 2000 # For n iteration, print time\n",
        "\n",
        "# Store the final result from LDPC\n",
        "tensor_size = torch.Size([llr_output.shape[0], 4])\n",
        "final_result = torch.zeros(tensor_size)\n",
        "\n",
        "#loop all the llr and get result.\n",
        "\n",
        "estimated_bits = ldpc_bp(llr_output, iter)\n",
        "final_result = estimated_bits\n",
        "\n",
        "\n",
        "if i>0 and i % n == 0:\n",
        "    print(f\"Procedure {i}, Time taken for {n} 7-bit codeword: {iteration_time} seconds\")\n",
        "\n",
        "print(final_result)"
      ],
      "metadata": {
        "is_executing": true,
        "ExecuteTime": {
          "start_time": "2023-12-12T10:11:42.912297Z"
        },
        "colab": {
          "base_uri": "https://localhost:8080/",
          "height": 385
        },
        "id": "5048c8da067aea80",
        "outputId": "dbb58e4a-710a-42aa-9293-5ac1bf454797"
      },
      "id": "5048c8da067aea80"
    },
    {
      "cell_type": "markdown",
      "source": [
        "Comparation and Plot"
      ],
      "metadata": {
        "collapsed": false,
        "id": "f13d4e59b49c277b"
      },
      "id": "f13d4e59b49c277b"
    },
    {
      "cell_type": "code",
      "execution_count": null,
      "outputs": [
        {
          "name": "stdout",
          "output_type": "stream",
          "text": [
            "0.0\n"
          ]
        }
      ],
      "source": [
        "def calculate_ber(transmitted_bits, origin_bits):\n",
        "    # Ensure that both tensors have the same shape\n",
        "    assert transmitted_bits.shape == origin_bits.shape, \"Shapes of transmitted and received bits must be the same.\"\n",
        "\n",
        "    # Calculate the bit errors\n",
        "    errors = (transmitted_bits != origin_bits).sum().item()\n",
        "\n",
        "    # Calculate the Bit Error Rate (BER)\n",
        "    ber = errors / transmitted_bits.numel()\n",
        "\n",
        "    return ber"
      ],
      "metadata": {
        "ExecuteTime": {
          "end_time": "2023-12-12T09:34:07.102937Z",
          "start_time": "2023-12-12T09:34:07.100418Z"
        },
        "id": "c7d315e8c561e18a",
        "outputId": "1a5d83c8-593f-47c6-ddd9-de152dce2fb2"
      },
      "id": "c7d315e8c561e18a"
    },
    {
      "cell_type": "code",
      "execution_count": null,
      "outputs": [],
      "source": [
        "# Describe the data:\n",
        "# bits_info: original signal\n",
        "decoded_bits = final_result #output from Maximum Likelihood\n",
        "# decoded_bits = llr_output # Output from log-likelihood\n",
        "# decoded_bits =\n",
        "\n",
        "ber = calculate_ber(decoded_bits, bits_info)\n",
        "print(ber)"
      ],
      "metadata": {
        "id": "5c3bdfb073f882f6"
      },
      "id": "5c3bdfb073f882f6"
    }
  ],
  "metadata": {
    "kernelspec": {
      "display_name": "Python 3",
      "language": "python",
      "name": "python3"
    },
    "language_info": {
      "codemirror_mode": {
        "name": "ipython",
        "version": 2
      },
      "file_extension": ".py",
      "mimetype": "text/x-python",
      "name": "python",
      "nbconvert_exporter": "python",
      "pygments_lexer": "ipython2",
      "version": "2.7.6"
    },
    "colab": {
      "provenance": []
    }
  },
  "nbformat": 4,
  "nbformat_minor": 5
}