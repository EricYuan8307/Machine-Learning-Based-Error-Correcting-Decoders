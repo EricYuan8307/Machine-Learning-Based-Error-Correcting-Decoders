{
 "cells": [
  {
   "cell_type": "code",
   "execution_count": 252,
   "id": "initial_id",
   "metadata": {
    "collapsed": true,
    "id": "initial_id",
    "ExecuteTime": {
     "end_time": "2023-12-12T15:28:04.392Z",
     "start_time": "2023-12-12T15:28:04.385724Z"
    }
   },
   "outputs": [],
   "source": [
    "import matplotlib.pyplot as plt\n",
    "import torch\n",
    "import torch.nn as nn\n",
    "import torch.optim as optim\n",
    "import time\n",
    "\n",
    "mps_device = (torch.device(\"mps\") if torch.backends.mps.is_available() \n",
    "              else (torch.device(\"cuda\") if torch.backends.cuda.is_available()\n",
    "                    else torch.device(\"cpu\")))"
   ]
  },
  {
   "cell_type": "code",
   "execution_count": 253,
   "outputs": [
    {
     "name": "stdout",
     "output_type": "stream",
     "text": [
      "torch.Size([1000000, 1, 4])\n"
     ]
    }
   ],
   "source": [
    "# Code Generation\n",
    "nr_codewords = int(1e6)\n",
    "bits_info = torch.randint(0, 2, size=(nr_codewords, 1, 4), dtype=torch.int)\n",
    "\n",
    "print(bits_info.shape)"
   ],
   "metadata": {
    "colab": {
     "base_uri": "https://localhost:8080/"
    },
    "id": "7b31da2dd38f4534",
    "outputId": "941e26ab-ff67-47b7-bf33-df31f8d4fd03",
    "ExecuteTime": {
     "end_time": "2023-12-12T15:28:04.575119Z",
     "start_time": "2023-12-12T15:28:04.549747Z"
    }
   },
   "id": "7b31da2dd38f4534"
  },
  {
   "cell_type": "markdown",
   "source": [
    "Hamming(7,4) Encoder"
   ],
   "metadata": {
    "collapsed": false,
    "id": "784df2c8e94a416e"
   },
   "id": "784df2c8e94a416e"
  },
  {
   "cell_type": "code",
   "execution_count": 254,
   "outputs": [],
   "source": [
    "class hamming_encode(torch.nn.Module):\n",
    "    def __init__(self):\n",
    "        \"\"\"\n",
    "        Use Hamming(7,4) to encode the data.\n",
    "\n",
    "        Args:\n",
    "            data: data received from the Hamming(7,4) encoder(Tensor)\n",
    "            generator matrix: generate the parity code\n",
    "\n",
    "        Returns:\n",
    "            encoded data: 4 bits original info with 3 parity code.\n",
    "        \"\"\"\n",
    "        super(hamming_encode, self).__init__()\n",
    "\n",
    "        # Define the generator matrix for Hamming(7,4)\n",
    "        self.generator_matrix = torch.tensor([\n",
    "            [1, 0, 0, 0],\n",
    "            [0, 1, 0, 0],\n",
    "            [0, 0, 1, 0],\n",
    "            [0, 0, 0, 1],\n",
    "            [1, 1, 0, 1],\n",
    "            [1, 0, 1, 1],\n",
    "            [0, 1, 1, 1],\n",
    "        ], dtype=torch.int)\n",
    "\n",
    "    def forward(self, input_data):\n",
    "        # Ensure input_data has shape (batch_size)\n",
    "        # assert input_data.size(0) == self.generator_matrix.shape[1], \"Input data must have same generator matrix row number bits.\"\n",
    "\n",
    "        # Perform matrix multiplication to encode the data\n",
    "        # result_tensor = (self.generator_matrix @ input_data.squeeze(1).mT).unsqueeze(1).T % 2\n",
    "        result_tensor = torch.matmul(input_data, self.generator_matrix.t())\n",
    "\n",
    "        return result_tensor"
   ],
   "metadata": {
    "id": "134dff35e9552bc9",
    "ExecuteTime": {
     "end_time": "2023-12-12T15:28:04.918903Z",
     "start_time": "2023-12-12T15:28:04.904771Z"
    }
   },
   "id": "134dff35e9552bc9"
  },
  {
   "cell_type": "code",
   "execution_count": 255,
   "outputs": [
    {
     "name": "stdout",
     "output_type": "stream",
     "text": [
      "torch.Size([1000000, 1, 7])\n"
     ]
    }
   ],
   "source": [
    "encoder = hamming_encode()\n",
    "encoded_codeword = encoder(bits_info)\n",
    "print(encoded_codeword.shape)"
   ],
   "metadata": {
    "colab": {
     "base_uri": "https://localhost:8080/"
    },
    "id": "7e7229a532d19f6",
    "outputId": "3d2f3232-43e7-4b63-974f-643c249450f8",
    "ExecuteTime": {
     "end_time": "2023-12-12T15:28:05.065203Z",
     "start_time": "2023-12-12T15:28:05.045595Z"
    }
   },
   "id": "7e7229a532d19f6"
  },
  {
   "cell_type": "markdown",
   "source": [
    "BPSK Modulator + Noise"
   ],
   "metadata": {
    "collapsed": false,
    "id": "82e4a0c53752581c"
   },
   "id": "82e4a0c53752581c"
  },
  {
   "cell_type": "code",
   "execution_count": 256,
   "outputs": [],
   "source": [
    "class bpsk_modulator(torch.nn.Module):\n",
    "    def __init__(self):\n",
    "        \"\"\"\n",
    "        Use BPSK to compress the data, which is easily to transmit.\n",
    "\n",
    "        Args:\n",
    "            codeword: data received from the Hamming(7,4) encoder(Tensor)\n",
    "\n",
    "        Returns:\n",
    "            data: Tensor contain all data modulated and add noise\n",
    "        \"\"\"\n",
    "        super(bpsk_modulator, self).__init__()\n",
    "\n",
    "    def forward(self, codeword, snr_dB):\n",
    "\n",
    "        # data = torch.tensor(data, dtype=float)\n",
    "        data = codeword.to(dtype=torch.float).to(mps_device)\n",
    "\n",
    "        # for i in range(data.shape[0]):\n",
    "        bits = data\n",
    "        bits = 2 * bits - 1\n",
    "\n",
    "        # Add Gaussian noise to the signal\n",
    "        noise_power = torch.tensor(10**(snr_dB / 10)).to(mps_device)\n",
    "        noise = torch.sqrt(1/(2*noise_power)) * torch.randn(bits.shape).to(mps_device)\n",
    "        noised_signal = bits + noise\n",
    "        # noised_signal = bits\n",
    "        data = noised_signal\n",
    "\n",
    "\n",
    "        return data"
   ],
   "metadata": {
    "id": "dea8f68cc3a6fb4f",
    "ExecuteTime": {
     "end_time": "2023-12-12T15:28:05.356352Z",
     "start_time": "2023-12-12T15:28:05.352270Z"
    }
   },
   "id": "dea8f68cc3a6fb4f"
  },
  {
   "cell_type": "code",
   "execution_count": 257,
   "outputs": [
    {
     "name": "stdout",
     "output_type": "stream",
     "text": [
      "tensor([[[-0.8616,  0.8800, -1.0527,  ...,  2.9497,  0.9954,  2.7068]],\n",
      "\n",
      "        [[ 0.8544, -0.8564,  1.1083,  ...,  2.9351,  5.0298,  3.1029]],\n",
      "\n",
      "        [[-1.0374,  1.0432, -1.0582,  ...,  0.8603, -1.0016,  0.8952]],\n",
      "\n",
      "        ...,\n",
      "\n",
      "        [[-0.9120, -0.9600, -0.9134,  ...,  0.9766,  0.9799,  1.0123]],\n",
      "\n",
      "        [[ 0.8577, -0.9507,  1.1926,  ...,  1.0777,  2.7292,  0.8809]],\n",
      "\n",
      "        [[-1.1301, -0.9020,  0.8717,  ..., -0.9644,  1.1951,  1.0053]]],\n",
      "       device='mps:0')\n"
     ]
    }
   ],
   "source": [
    "snr_dB = 15  # Signal-to-noise ratio in dB\n",
    "\n",
    "# Modulate the signal\n",
    "modulator = bpsk_modulator()\n",
    "modulated_noise_signal = modulator(encoded_codeword.to(mps_device), snr_dB)\n",
    "print(modulated_noise_signal)"
   ],
   "metadata": {
    "colab": {
     "base_uri": "https://localhost:8080/"
    },
    "id": "590464d8549a0582",
    "outputId": "8648f5a5-9b6a-4ea5-f5ed-54e70b98a1b1",
    "ExecuteTime": {
     "end_time": "2023-12-12T15:28:05.613178Z",
     "start_time": "2023-12-12T15:28:05.503748Z"
    }
   },
   "id": "590464d8549a0582"
  },
  {
   "cell_type": "markdown",
   "source": [
    "LLR Log-likelihood\n",
    "y = s + n\n",
    "Assuming that \\( s \\) is equally likely to be 0 or 1, and \\( n \\) is Gaussian with zero mean and variance \\( N_0/2 \\), where \\( N_0 \\) is the noise power spectral density.\n"
   ],
   "metadata": {
    "collapsed": false,
    "id": "b788f8a37d6c4add"
   },
   "id": "b788f8a37d6c4add"
  },
  {
   "cell_type": "code",
   "execution_count": 258,
   "outputs": [],
   "source": [
    "def llr(signal, snr):\n",
    "    \"\"\"\n",
    "    Calculate Log Likelihood Ratio (LLR) for a simple binary symmetric channel.\n",
    "\n",
    "    Args:\n",
    "        signal (torch.Tensor): Received signal from BPSK.\n",
    "        noise_std (float): Standard deviation of the noise.\n",
    "\n",
    "    Returns:\n",
    "        llr: Log Likelihood Ratio (LLR) values.\n",
    "    \"\"\"\n",
    "\n",
    "    # Assuming Binary Phase Shift Keying (BPSK) modulation\n",
    "    noise_std = torch.sqrt(torch.tensor(10**(snr / 10))).to(mps_device)\n",
    "\n",
    "    # Calculate the LLR\n",
    "    llr = 2 * signal * noise_std\n",
    "\n",
    "    # return llr_values, llr\n",
    "    return llr\n"
   ],
   "metadata": {
    "id": "5db7bbc0fe148325",
    "ExecuteTime": {
     "end_time": "2023-12-12T15:28:05.779748Z",
     "start_time": "2023-12-12T15:28:05.775883Z"
    }
   },
   "id": "5db7bbc0fe148325"
  },
  {
   "cell_type": "code",
   "execution_count": 259,
   "outputs": [
    {
     "name": "stdout",
     "output_type": "stream",
     "text": [
      "LLR values: tensor([[[ -9.6902,   9.8977, -11.8393,  ...,  33.1748,  11.1947,  30.4424]],\n",
      "\n",
      "        [[  9.6089,  -9.6318,  12.4649,  ...,  33.0105,  56.5694,  34.8974]],\n",
      "\n",
      "        [[-11.6675,  11.7325, -11.9010,  ...,   9.6752, -11.2653,  10.0684]],\n",
      "\n",
      "        ...,\n",
      "\n",
      "        [[-10.2567, -10.7967, -10.2728,  ...,  10.9837,  11.0204,  11.3850]],\n",
      "\n",
      "        [[  9.6459, -10.6924,  13.4128,  ...,  12.1212,  30.6947,   9.9074]],\n",
      "\n",
      "        [[-12.7104, -10.1451,   9.8035,  ..., -10.8467,  13.4413,  11.3060]]],\n",
      "       device='mps:0')\n"
     ]
    }
   ],
   "source": [
    "llr_output = llr(modulated_noise_signal, snr_dB)\n",
    "print(\"LLR values:\", llr_output)"
   ],
   "metadata": {
    "colab": {
     "base_uri": "https://localhost:8080/"
    },
    "id": "d02cfd5d533e6248",
    "outputId": "79523dc1-c5f6-46ea-c3b1-7593deb12a97",
    "ExecuteTime": {
     "end_time": "2023-12-12T15:28:06.053553Z",
     "start_time": "2023-12-12T15:28:06.029286Z"
    }
   },
   "id": "d02cfd5d533e6248"
  },
  {
   "cell_type": "markdown",
   "source": [
    "LDPC Decoder\n",
    "\n",
    "Strange behavior recording:\n",
    "In 100 7-bit codewords, the speed on MPS(GPU) is slower than CPU. Reason unknown."
   ],
   "metadata": {
    "collapsed": false,
    "id": "73cde4898560777a"
   },
   "id": "73cde4898560777a"
  },
  {
   "cell_type": "code",
   "execution_count": 260,
   "outputs": [],
   "source": [
    "class LDPCBeliefPropagation(torch.nn.Module):\n",
    "    def __init__(self, H, llr):\n",
    "        \"\"\"\n",
    "        LDPC Belief Propagation.\n",
    "\n",
    "        Args:\n",
    "            H: Low density parity code for building tanner graph.\n",
    "            llr: Log Likelihood Ratio (LLR) values. Only for 7-bit codeword.\n",
    "\n",
    "        Returns:\n",
    "            estimated_bits: the output result from belief propagation.\n",
    "        \"\"\"\n",
    "\n",
    "        super(LDPCBeliefPropagation, self).__init__()\n",
    "        self.llr = llr\n",
    "        self.H = H\n",
    "        self.num_check_nodes, self.num_variable_nodes = H.shape\n",
    "        self.channel = llr.shape[2]\n",
    "\n",
    "        # Initialize messages\n",
    "        self.messages_v_to_c = torch.ones((self.num_variable_nodes, self.num_check_nodes, self.channel), dtype=torch.float).to(mps_device)\n",
    "        self.messages_c_to_v = torch.zeros((self.num_check_nodes, self.num_variable_nodes, self.channel), dtype=torch.float).to(mps_device)\n",
    "\n",
    "    def forward(self, max_iter):\n",
    "        start_time = time.time()\n",
    "        for iteration in range(max_iter):\n",
    "            \n",
    "            # Variable to check node messages\n",
    "            for i in range(self.num_variable_nodes):\n",
    "                for j in range(self.num_check_nodes):\n",
    "                    \n",
    "                    # Compute messages from variable to check nodes\n",
    "                    connected_checks = self.H[j, :] == 1\n",
    "                    product = torch.prod(torch.tanh(0.5 * self.messages_v_to_c[connected_checks, j]),dim=0, keepdim=True)\n",
    "                    self.messages_v_to_c[i, j] = torch.sign(self.llr[j]) * product\n",
    "\n",
    "            # Check to variable node messages\n",
    "            for i in range(self.num_check_nodes):\n",
    "                for j in range(self.num_variable_nodes):\n",
    "                    \n",
    "                    # Compute messages from check to variable nodes\n",
    "                    connected_vars = self.H[:, j] == 1\n",
    "                    sum_msgs = torch.sum(self.messages_c_to_v[connected_vars, i]) - self.messages_v_to_c[j, i]\n",
    "                    self.messages_c_to_v[i, j] = 2 * torch.atan(torch.exp(0.5 * sum_msgs))\n",
    "\n",
    "        # Calculate the final estimated bits and only take first four bits\n",
    "        estimated_bits = torch.sign(self.llr) * torch.prod(torch.tanh(0.5 * self.messages_c_to_v))\n",
    "        tensor_1 = torch.tensor(1, device=mps_device)\n",
    "        tensor_0 = torch.tensor(0, device=mps_device)\n",
    "        estimated_bits = torch.where(estimated_bits > 0, tensor_1, tensor_0)\n",
    "        estimated_bits = estimated_bits[:, :, 0:4]\n",
    "        \n",
    "        end_time = time.time()\n",
    "        elapsed_time = end_time - start_time\n",
    "        \n",
    "        return estimated_bits, elapsed_time"
   ],
   "metadata": {
    "id": "43cceb3e29b1f0cb",
    "ExecuteTime": {
     "end_time": "2023-12-12T15:28:06.829863Z",
     "start_time": "2023-12-12T15:28:06.825367Z"
    }
   },
   "id": "43cceb3e29b1f0cb"
  },
  {
   "cell_type": "code",
   "execution_count": 261,
   "outputs": [
    {
     "name": "stdout",
     "output_type": "stream",
     "text": [
      "tensor([[[0, 1, 0, 1]],\n",
      "\n",
      "        [[1, 0, 1, 1]],\n",
      "\n",
      "        [[0, 1, 0, 0]],\n",
      "\n",
      "        ...,\n",
      "\n",
      "        [[0, 0, 0, 1]],\n",
      "\n",
      "        [[1, 0, 1, 0]],\n",
      "\n",
      "        [[0, 0, 1, 0]]], device='mps:0')\n",
      "The Entire LDPC Belief propagation runs 0.7829172611236572 seconds\n"
     ]
    }
   ],
   "source": [
    "H = torch.tensor([ [1, 1, 1, 0, 0, 0, 0],\n",
    "                   [0, 0, 1, 1, 1, 0, 0],\n",
    "                   [0, 1, 0, 0, 1, 1, 0],\n",
    "                   [1, 0, 0, 1, 0, 0, 1],], device=mps_device)\n",
    "iter = 10\n",
    "ldpc_bp = LDPCBeliefPropagation(H, llr_output.to(mps_device))\n",
    "\n",
    "final_result, time = ldpc_bp(iter)\n",
    "\n",
    "print(final_result)\n",
    "print(f\"The Entire LDPC Belief propagation runs {time} seconds\")"
   ],
   "metadata": {
    "colab": {
     "base_uri": "https://localhost:8080/",
     "height": 385
    },
    "id": "5048c8da067aea80",
    "outputId": "dbb58e4a-710a-42aa-9293-5ac1bf454797",
    "ExecuteTime": {
     "end_time": "2023-12-12T15:28:08.067045Z",
     "start_time": "2023-12-12T15:28:07.268251Z"
    }
   },
   "id": "5048c8da067aea80"
  },
  {
   "cell_type": "markdown",
   "source": [
    "Comparation and Plot"
   ],
   "metadata": {
    "collapsed": false,
    "id": "f13d4e59b49c277b"
   },
   "id": "f13d4e59b49c277b"
  },
  {
   "cell_type": "code",
   "execution_count": 262,
   "outputs": [],
   "source": [
    "def calculate_ber(transmitted_bits, origin_bits):\n",
    "    # Ensure that both tensors have the same shape\n",
    "    assert transmitted_bits.shape == origin_bits.shape, \"Shapes of transmitted and received bits must be the same.\"\n",
    "\n",
    "    # Calculate the bit errors\n",
    "    errors = (transmitted_bits != origin_bits).sum().item()\n",
    "\n",
    "    # Calculate the Bit Error Rate (BER)\n",
    "    ber = errors / transmitted_bits.numel()\n",
    "\n",
    "    return ber"
   ],
   "metadata": {
    "id": "c7d315e8c561e18a",
    "outputId": "1a5d83c8-593f-47c6-ddd9-de152dce2fb2",
    "ExecuteTime": {
     "end_time": "2023-12-12T15:28:10.701113Z",
     "start_time": "2023-12-12T15:28:10.696642Z"
    }
   },
   "id": "c7d315e8c561e18a"
  },
  {
   "cell_type": "code",
   "execution_count": 263,
   "outputs": [
    {
     "name": "stdout",
     "output_type": "stream",
     "text": [
      "0.0\n"
     ]
    }
   ],
   "source": [
    "# Describe the data:\n",
    "# bits_info: original signal\n",
    "bits_info = bits_info.to(mps_device)\n",
    "decoded_bits = final_result #output from Maximum Likelihood\n",
    "# decoded_bits = llr_output # Output from log-likelihood\n",
    "# decoded_bits =\n",
    "\n",
    "ber = calculate_ber(decoded_bits, bits_info)\n",
    "print(ber)"
   ],
   "metadata": {
    "id": "5c3bdfb073f882f6",
    "ExecuteTime": {
     "end_time": "2023-12-12T15:28:11.228740Z",
     "start_time": "2023-12-12T15:28:11.188102Z"
    }
   },
   "id": "5c3bdfb073f882f6"
  },
  {
   "cell_type": "code",
   "execution_count": null,
   "outputs": [],
   "source": [],
   "metadata": {
    "collapsed": false
   },
   "id": "66742211391abf76"
  }
 ],
 "metadata": {
  "kernelspec": {
   "display_name": "Python 3",
   "language": "python",
   "name": "python3"
  },
  "language_info": {
   "codemirror_mode": {
    "name": "ipython",
    "version": 2
   },
   "file_extension": ".py",
   "mimetype": "text/x-python",
   "name": "python",
   "nbconvert_exporter": "python",
   "pygments_lexer": "ipython2",
   "version": "2.7.6"
  },
  "colab": {
   "provenance": []
  }
 },
 "nbformat": 4,
 "nbformat_minor": 5
}
