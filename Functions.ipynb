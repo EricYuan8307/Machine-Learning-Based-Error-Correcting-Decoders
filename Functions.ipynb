{
 "cells": [
  {
   "cell_type": "code",
   "execution_count": 9,
   "id": "initial_id",
   "metadata": {
    "collapsed": true,
    "ExecuteTime": {
     "end_time": "2024-02-21T09:50:06.422029Z",
     "start_time": "2024-02-21T09:50:06.406042Z"
    }
   },
   "outputs": [
    {
     "name": "stderr",
     "output_type": "stream",
     "text": [
      "/var/folders/71/hry96qw555j_rlvg3tfgrh180000gn/T/ipykernel_49366/2632488042.py:4: DeprecationWarning: an integer is required (got type float).  Implicit conversion to integers using __int__ is deprecated, and may be removed in a future version of Python.\n",
      "  matrix = torch.tensor([\n"
     ]
    },
    {
     "data": {
      "text/plain": "tensor([[1, 0, 0, 0, 0, 0, 0, 0, 0, 0, 0, 0],\n        [0, 1, 0, 0, 0, 0, 0, 0, 0, 0, 0, 0],\n        [0, 0, 1, 0, 0, 0, 0, 0, 0, 0, 0, 0],\n        [0, 0, 0, 1, 0, 0, 0, 0, 0, 0, 0, 0],\n        [0, 0, 0, 0, 1, 0, 0, 0, 0, 0, 0, 0],\n        [0, 0, 0, 0, 0, 1, 0, 0, 0, 0, 0, 0],\n        [0, 0, 0, 0, 0, 0, 1, 0, 0, 0, 0, 0],\n        [0, 0, 0, 0, 0, 0, 0, 1, 0, 0, 0, 0],\n        [0, 0, 0, 0, 0, 0, 0, 0, 1, 0, 0, 0],\n        [0, 0, 0, 0, 0, 0, 0, 0, 0, 1, 0, 0],\n        [0, 0, 0, 0, 0, 0, 0, 0, 0, 0, 1, 0],\n        [0, 0, 0, 0, 0, 0, 0, 0, 0, 0, 0, 1],\n        [1, 1, 1, 1, 1, 1, 1, 1, 1, 1, 1, 0],\n        [1, 0, 0, 0, 1, 0, 1, 0, 0, 1, 0, 1],\n        [0, 0, 1, 1, 0, 1, 1, 1, 0, 1, 0, 0],\n        [0, 0, 1, 0, 1, 0, 0, 1, 1, 0, 0, 1],\n        [1, 1, 0, 0, 0, 0, 1, 1, 1, 0, 1, 1],\n        [1, 0, 1, 0, 1, 0, 1, 1, 0, 0, 1, 0],\n        [1, 0, 0, 0, 1, 0, 1, 0, 1, 0, 0, 0],\n        [0, 0, 1, 0, 1, 1, 0, 1, 0, 1, 1, 1],\n        [1, 1, 1, 1, 1, 0, 0, 1, 0, 1, 1, 1],\n        [1, 1, 1, 1, 1, 1, 0, 0, 1, 0, 1, 0],\n        [0, 1, 0, 0, 1, 1, 1, 0, 1, 0, 1, 1],\n        [0, 1, 1, 1, 0, 0, 1, 1, 1, 0, 0, 1],\n        [1, 0, 1, 1, 0, 0, 0, 0, 1, 1, 1, 1],\n        [0, 1, 1, 0, 1, 0, 1, 0, 0, 1, 1, 1],\n        [0, 0, 1, 1, 0, 1, 0, 0, 0, 0, 1, 1],\n        [0, 0, 0, 1, 1, 1, 1, 1, 1, 1, 1, 1],\n        [1, 0, 0, 1, 0, 0, 1, 0, 0, 1, 0, 0],\n        [1, 1, 1, 0, 1, 1, 1, 1, 0, 1, 0, 1],\n        [0, 1, 1, 1, 1, 0, 0, 0, 0, 0, 0, 0],\n        [0, 0, 1, 0, 1, 1, 1, 0, 1, 1, 0, 1],\n        [1, 1, 0, 1, 1, 1, 1, 1, 1, 0, 0, 1],\n        [0, 1, 1, 0, 0, 1, 1, 0, 0, 0, 0, 1]], dtype=torch.int32)"
     },
     "execution_count": 9,
     "metadata": {},
     "output_type": "execute_result"
    }
   ],
   "source": [
    "import torch\n",
    "\n",
    "# Original matrix provided by the user\n",
    "matrix = torch.tensor([\n",
    "[1E+00,\t0E+00,\t0E+00,\t0E+00,\t0E+00,\t0E+00,\t0E+00,\t0E+00,\t0E+00,\t0E+00,\t0E+00,\t0E+00,\t1E+00,\t1E+00,\t0E+00,\t0E+00,\t1E+00,\t1E+00,\t1E+00,\t0E+00,\t1E+00,\t1E+00,\t0E+00,\t0E+00,\t1E+00,\t0E+00,\t0E+00,\t0E+00,\t1E+00,\t1E+00,\t0E+00,\t0E+00,\t1E+00,\t0E+00],\n",
    "[0E+00,\t1E+00,\t0E+00,\t0E+00,\t0E+00,\t0E+00,\t0E+00,\t0E+00,\t0E+00,\t0E+00,\t0E+00,\t0E+00,\t1E+00,\t0E+00,\t0E+00,\t0E+00,\t1E+00,\t0E+00,\t0E+00,\t0E+00,\t1E+00,\t1E+00,\t1E+00,\t1E+00,\t0E+00,\t1E+00,\t0E+00,\t0E+00,\t0E+00,\t1E+00,\t1E+00,\t0E+00,\t1E+00,\t1E+00],\n",
    "[0E+00,\t0E+00,\t1E+00,\t0E+00,\t0E+00,\t0E+00,\t0E+00,\t0E+00,\t0E+00,\t0E+00,\t0E+00,\t0E+00,\t1E+00,\t0E+00\t,1E+00,\t1E+00,\t0E+00,\t1E+00,\t0E+00,\t1E+00,\t1E+00,\t1E+00,\t0E+00,\t1E+00,\t1E+00,\t1E+00,\t1E+00,\t0E+00,\t0E+00,\t1E+00,\t1E+00,\t1E+00,\t0E+00,\t1E+00],\n",
    "[0E+00,\t0E+00,\t0E+00,\t1E+00,\t0E+00,\t0E+00,\t0E+00,\t0E+00,\t0E+00,\t0E+00,\t0E+00,\t0E+00,\t1E+00,\t0E+00\t,1E+00,\t0E+00,\t0E+00,\t0E+00,\t0E+00,\t0E+00,\t1E+00,\t1E+00,\t0E+00,\t1E+00,\t1E+00,\t0E+00,\t1E+00,\t1E+00,\t1E+00,\t0E+00,\t1E+00,\t0E+00,\t1E+00,\t0E+00],\n",
    "[0E+00,\t0E+00,\t0E+00,\t0E+00,\t1E+00,\t0E+00,\t0E+00,\t0E+00,\t0E+00,\t0E+00,\t0E+00,\t0E+00,\t1E+00,\t1E+00\t,0E+00,\t1E+00,\t0E+00,\t1E+00,\t1E+00,\t1E+00,\t1E+00,\t1E+00,\t1E+00,\t0E+00,\t0E+00,\t1E+00,\t0E+00,\t1E+00,\t0E+00,\t1E+00,\t1E+00,\t1E+00,\t1E+00,\t0E+00],\n",
    "[0E+00,\t0E+00,\t0E+00,\t0E+00,\t0E+00,\t1E+00,\t0E+00,\t0E+00,\t0E+00,\t0E+00,\t0E+00,\t0E+00,\t1E+00,\t0E+00\t,1E+00,\t0E+00,\t0E+00,\t0E+00,\t0E+00,\t1E+00,\t0E+00,\t1E+00,\t1E+00,\t0E+00,\t0E+00,\t0E+00,\t1E+00,\t1E+00,\t0E+00,\t1E+00,\t0E+00,\t1E+00,\t1E+00,\t1E+00],\n",
    "[0E+00,\t0E+00,\t0E+00,\t0E+00,\t0E+00,\t0E+00,\t1E+00,\t0E+00,\t0E+00,\t0E+00,\t0E+00,\t0E+00,\t1E+00,\t1E+00\t,1E+00,\t0E+00,\t1E+00,\t1E+00,\t1E+00,\t0E+00,\t0E+00,\t0E+00,\t1E+00,\t1E+00,\t0E+00,\t1E+00,\t0E+00,\t1E+00,\t1E+00,\t1E+00,\t0E+00,\t1E+00,\t1E+00,\t1E+00],\n",
    "[0E+00,\t0E+00,\t0E+00,\t0E+00,\t0E+00,\t0E+00,\t0E+00,\t1E+00,\t0E+00,\t0E+00,\t0E+00,\t0E+00,\t1E+00,\t0E+00\t,1E+00,\t1E+00,\t1E+00,\t1E+00,\t0E+00,\t1E+00,\t1E+00,\t0E+00,\t0E+00,\t1E+00,\t0E+00,\t0E+00,\t0E+00,\t1E+00,\t0E+00,\t1E+00,\t0E+00,\t0E+00,\t1E+00,\t0E+00],\n",
    "[0E+00,\t0E+00,\t0E+00,\t0E+00,\t0E+00,\t0E+00,\t0E+00,\t0E+00,\t1E+00,\t0E+00,\t0E+00,\t0E+00,\t1E+00,\t0E+00\t,0E+00,\t1E+00,\t1E+00,\t0E+00,\t1E+00,\t0E+00,\t0E+00,\t1E+00,\t1E+00,\t1E+00,\t1E+00,\t0E+00,\t0E+00,\t1E+00,\t0E+00,\t0E+00,\t0E+00,\t1E+00,\t1E+00,\t0E+00],\n",
    "[0E+00,\t0E+00,\t0E+00,\t0E+00,\t0E+00,\t0E+00,\t0E+00,\t0E+00,\t0E+00,\t1E+00,\t0E+00,\t0E+00,\t1E+00,\t1E+00\t,1E+00,\t0E+00,\t0E+00,\t0E+00,\t0E+00,\t1E+00,\t1E+00,\t0E+00,\t0E+00,\t0E+00,\t1E+00,\t1E+00,\t0E+00,\t1E+00,\t1E+00,\t1E+00,\t0E+00,\t1E+00,\t0E+00,\t0E+00],\n",
    "[0E+00,\t0E+00,\t0E+00,\t0E+00,\t0E+00,\t0E+00,\t0E+00,\t0E+00,\t0E+00,\t0E+00,\t1E+00,\t0E+00,\t1E+00,\t0E+00\t,0E+00,\t0E+00,\t1E+00,\t1E+00,\t0E+00,\t1E+00,\t1E+00,\t1E+00,\t1E+00,\t0E+00,\t1E+00,\t1E+00,\t1E+00,\t1E+00,\t0E+00,\t0E+00,\t0E+00,\t0E+00,\t0E+00,\t0E+00],\n",
    "[0E+00,\t0E+00,\t0E+00,\t0E+00,\t0E+00,\t0E+00,\t0E+00,\t0E+00,\t0E+00,\t0E+00,\t0E+00,\t1E+00,\t0E+00,\t1E+00\t,0E+00,\t1E+00,\t1E+00,\t0E+00,\t0E+00,\t1E+00,\t1E+00,\t0E+00,\t1E+00,\t1E+00,\t1E+00,\t1E+00,\t1E+00,\t1E+00,\t0E+00,\t1E+00,\t0E+00,\t1E+00,\t1E+00,\t1E+00]\n",
    "\n",
    "], dtype=torch.int)\n",
    "\n",
    "\n",
    "# Compute the transpose of the matrix\n",
    "transposed_matrix = matrix.t()\n",
    "\n",
    "transposed_matrix\n"
   ]
  },
  {
   "cell_type": "code",
   "outputs": [
    {
     "data": {
      "text/plain": "(array([[1, 0, 0, 0, 0, 0, 0, 0, 0, 0, 0, 1, 1, 0, 1, 1, 1, 1, 1, 1, 0, 0,\n         1, 1, 1, 0],\n        [0, 1, 0, 0, 0, 0, 0, 0, 0, 0, 0, 1, 0, 0, 0, 0, 0, 0, 1, 1, 0, 0,\n         1, 0, 1, 1],\n        [0, 0, 1, 0, 0, 0, 0, 0, 0, 0, 0, 1, 0, 1, 0, 0, 1, 1, 0, 0, 1, 1,\n         1, 1, 1, 1],\n        [0, 0, 0, 1, 0, 0, 0, 0, 0, 0, 1, 1, 1, 1, 1, 1, 0, 0, 0, 0, 1, 0,\n         1, 1, 1, 0],\n        [0, 0, 0, 0, 1, 0, 0, 0, 0, 0, 0, 1, 0, 1, 1, 0, 0, 1, 1, 1, 1, 1,\n         0, 1, 1, 0],\n        [0, 0, 0, 0, 0, 1, 0, 0, 0, 0, 1, 1, 0, 0, 1, 0, 1, 1, 1, 0, 1, 1,\n         0, 0, 1, 0],\n        [0, 0, 0, 0, 0, 0, 1, 0, 0, 0, 1, 1, 1, 1, 0, 1, 1, 0, 0, 0, 0, 0,\n         1, 1, 1, 0],\n        [0, 0, 0, 0, 0, 0, 0, 1, 0, 0, 0, 1, 1, 0, 1, 0, 0, 0, 0, 0, 0, 0,\n         0, 0, 1, 1],\n        [0, 0, 0, 0, 0, 0, 0, 0, 1, 0, 0, 1, 0, 1, 0, 1, 0, 1, 0, 0, 0, 0,\n         1, 0, 0, 1],\n        [0, 0, 0, 0, 0, 0, 0, 0, 0, 1, 0, 1, 0, 1, 0, 0, 1, 1, 1, 1, 0, 0,\n         0, 1, 0, 1]]),\n tensor([[1., 0., 1., 0., 0., 0., 1., 0., 1., 0., 1., 0., 0., 0., 0., 0., 0., 0.,\n          0., 0., 0., 0., 0., 0., 0., 0.],\n         [0., 1., 0., 0., 1., 0., 1., 0., 1., 0., 0., 1., 0., 0., 0., 0., 0., 0.,\n          0., 0., 0., 0., 0., 0., 0., 0.],\n         [1., 0., 1., 0., 0., 1., 1., 0., 0., 1., 0., 0., 1., 0., 0., 0., 0., 0.,\n          0., 0., 0., 0., 0., 0., 0., 0.],\n         [0., 0., 0., 1., 0., 1., 0., 1., 1., 1., 0., 0., 0., 1., 0., 0., 0., 0.,\n          0., 0., 0., 0., 0., 0., 0., 0.],\n         [0., 1., 0., 0., 1., 1., 0., 1., 0., 1., 0., 0., 0., 0., 1., 0., 0., 0.,\n          0., 0., 0., 0., 0., 0., 0., 0.],\n         [0., 1., 1., 0., 1., 1., 0., 0., 1., 0., 0., 0., 0., 0., 0., 1., 0., 0.,\n          0., 0., 0., 0., 0., 0., 0., 0.],\n         [1., 1., 1., 0., 1., 0., 1., 0., 0., 0., 0., 0., 0., 0., 0., 0., 1., 0.,\n          0., 0., 0., 0., 0., 0., 0., 0.],\n         [0., 0., 0., 1., 0., 1., 0., 1., 0., 0., 0., 0., 0., 0., 0., 0., 0., 1.,\n          0., 0., 0., 0., 0., 0., 0., 0.],\n         [0., 0., 1., 1., 1., 0., 1., 1., 1., 1., 0., 0., 0., 0., 0., 0., 0., 0.,\n          1., 0., 0., 0., 0., 0., 0., 0.],\n         [1., 0., 1., 1., 1., 1., 0., 0., 0., 1., 0., 0., 0., 0., 0., 0., 0., 0.,\n          0., 1., 0., 0., 0., 0., 0., 0.],\n         [0., 1., 0., 1., 0., 1., 1., 1., 0., 1., 0., 0., 0., 0., 0., 0., 0., 0.,\n          0., 0., 1., 0., 0., 0., 0., 0.],\n         [1., 0., 0., 1., 1., 0., 0., 1., 1., 1., 0., 0., 0., 0., 0., 0., 0., 0.,\n          0., 0., 0., 1., 0., 0., 0., 0.],\n         [0., 0., 1., 0., 1., 1., 1., 0., 1., 1., 0., 0., 0., 0., 0., 0., 0., 0.,\n          0., 0., 0., 0., 1., 0., 0., 0.],\n         [0., 1., 0., 0., 0., 1., 1., 1., 1., 0., 0., 0., 0., 0., 0., 0., 0., 0.,\n          0., 0., 0., 0., 0., 1., 0., 0.],\n         [0., 1., 0., 0., 0., 0., 1., 0., 1., 0., 0., 0., 0., 0., 0., 0., 0., 0.,\n          0., 0., 0., 0., 0., 0., 1., 0.],\n         [0., 0., 1., 1., 0., 1., 0., 0., 0., 1., 0., 0., 0., 0., 0., 0., 0., 0.,\n          0., 0., 0., 0., 0., 0., 0., 1.]]))"
     },
     "execution_count": 13,
     "metadata": {},
     "output_type": "execute_result"
    }
   ],
   "source": [
    "import numpy as np\n",
    "\n",
    "# Define dimensions\n",
    "k, n = 10, 26\n",
    "r = n - k\n",
    "\n",
    "# Construct G\n",
    "G_identity = np.eye(k, dtype=int)\n",
    "G_parity = np.random.randint(0, 2, size=(k, r))\n",
    "G = np.hstack((G_identity, G_parity))\n",
    "\n",
    "# # Construct H by finding nullspace of G\n",
    "# H = np.linalg.null_space(G.T)\n",
    "\n",
    "G\n"
   ],
   "metadata": {
    "collapsed": false,
    "ExecuteTime": {
     "end_time": "2024-02-08T13:03:32.905722Z",
     "start_time": "2024-02-08T13:03:32.895187Z"
    }
   },
   "id": "623c9a045aea3b08",
   "execution_count": 13
  },
  {
   "cell_type": "code",
   "outputs": [],
   "source": [],
   "metadata": {
    "collapsed": false
   },
   "id": "6f6747a3decaf13d"
  },
  {
   "cell_type": "code",
   "outputs": [
    {
     "name": "stdout",
     "output_type": "stream",
     "text": [
      "test1 tensor(-4.5343)\n"
     ]
    }
   ],
   "source": [
    "import torch\n",
    "bits = 10\n",
    "encoded = 26\n",
    "test1 = 10 * torch.log10(torch.tensor(bits / encoded, dtype=torch.float)) \n",
    "test1 = test1 - torch.tensor(10/26)\n",
    "\n",
    "print(\"test1\", test1)"
   ],
   "metadata": {
    "collapsed": false,
    "ExecuteTime": {
     "end_time": "2024-02-16T06:42:33.350514Z",
     "start_time": "2024-02-16T06:42:33.347735Z"
    }
   },
   "id": "738b066926644aa2",
   "execution_count": 15
  },
  {
   "cell_type": "code",
   "outputs": [
    {
     "name": "stdout",
     "output_type": "stream",
     "text": [
      "Help on module BCH:\n",
      "\n",
      "NAME\n",
      "    BCH - BCH Library\n",
      "\n",
      "CLASSES\n",
      "    builtins.object\n",
      "        bchlib.BCH\n",
      "    \n",
      "    class BCH(builtins.object)\n",
      "     |  BCH Encoder/Decoder\n",
      "     |  \n",
      "     |  __init__(t, poly=None, m=None, swap_bits=False) → bch\n",
      "     |      Constructor creates a BCH object with given 't' bit strength.  At\n",
      "     |      least one of 'poly' and/or 'm' must be provided.  If 'poly' is\n",
      "     |      provided but 'm' (Galois field order) is not, 'm' will be\n",
      "     |      calculated automatically.  If 'm' between 5 and 15 inclusive is'\n",
      "     |      provided, 'polywill be selected automatically.  The 'swap_bits'\n",
      "     |      parameter will reverse the bit order within data and syndrome\n",
      "     |      bytes.\n",
      "     |  \n",
      "     |  Methods defined here:\n",
      "     |  \n",
      "     |  __getattribute__(self, name, /)\n",
      "     |      Return getattr(self, name).\n",
      "     |  \n",
      "     |  __init__(self, /, *args, **kwargs)\n",
      "     |      Initialize self.  See help(type(self)) for accurate signature.\n",
      "     |  \n",
      "     |  compute_even_syn(...)\n",
      "     |    compute_even_syn(syn) → syn\n",
      "     |      Computes even syndromes from odd ones.  Takes a sequence of\n",
      "     |      2*t values and returns a tuple of 2*t elements.\n",
      "     |  \n",
      "     |  correct(...)\n",
      "     |    correct(data=None, ecc=None) → None\n",
      "     |      Corrects 'data' and 'ecc' if provided.  Buffers must not be\n",
      "     |      readonly.\n",
      "     |  \n",
      "     |  decode(...)\n",
      "     |    decode(data=None, recv_ecc=None, calc_ecc=None, syn=None) → nerr\n",
      "     |      Calculates error locations and returns the number of errors found\n",
      "     |      or negative if decoding failed.\n",
      "     |      \n",
      "     |      There are four ways that 'decode' can function by providing\n",
      "     |      different input parameters:\n",
      "     |      \n",
      "     |          'data' and 'recv_ecc'\n",
      "     |          'recv_ecc' and 'calc_ecc'\n",
      "     |          'calc_ecc' (as recv_ecc XOR calc_ecc)\n",
      "     |          'syn' (a sequence of 2*t values)\n",
      "     |      \n",
      "     |      'data_len' SHOULD be set before calling this function.\n",
      "     |  \n",
      "     |  encode(...)\n",
      "     |    encode(data[, ecc]) → ecc\n",
      "     |      Encodes 'data' with an optional starting 'ecc'.  Returns the\n",
      "     |      calculated ecc.\n",
      "     |  \n",
      "     |  ----------------------------------------------------------------------\n",
      "     |  Static methods defined here:\n",
      "     |  \n",
      "     |  __new__(*args, **kwargs) from builtins.type\n",
      "     |      Create and return a new object.  See help(type) for accurate signature.\n",
      "     |  \n",
      "     |  ----------------------------------------------------------------------\n",
      "     |  Data descriptors defined here:\n",
      "     |  \n",
      "     |  data_len\n",
      "     |      Read/write; decode data length in bytes.  Set this value before\n",
      "     |      decoding.\n",
      "     |  \n",
      "     |  ecc_bits\n",
      "     |      Readonly; number of ecc bits.\n",
      "     |  \n",
      "     |  ecc_bytes\n",
      "     |      Readonly; number of ecc bytes.\n",
      "     |  \n",
      "     |  errloc\n",
      "     |      Readonly; tuple of error bit locations.\n",
      "     |  \n",
      "     |  m\n",
      "     |      Readonly; Galois field order.\n",
      "     |  \n",
      "     |  n\n",
      "     |      Readonly; maximum codeword size in bits.\n",
      "     |  \n",
      "     |  prim_poly\n",
      "     |      Readonly; primitive polynomial for bch operations.\n",
      "     |  \n",
      "     |  syn\n",
      "     |      Readonly; a tuple of syndromes after performing a decode().\n",
      "     |  \n",
      "     |  t\n",
      "     |      Readonly; the number of bit errors that can be corrected.\n",
      "\n",
      "FILE\n",
      "    /opt/homebrew/Caskroom/miniforge/base/envs/thesis/lib/python3.9/site-packages/bchlib.cpython-39-darwin.so\n"
     ]
    }
   ],
   "source": [
    "import bchlib\n",
    "help(bchlib)"
   ],
   "metadata": {
    "collapsed": false,
    "ExecuteTime": {
     "end_time": "2024-02-16T08:01:12.293585Z",
     "start_time": "2024-02-16T08:01:12.227579Z"
    }
   },
   "id": "acfae60b40662eac",
   "execution_count": 16
  },
  {
   "cell_type": "code",
   "outputs": [
    {
     "name": "stdout",
     "output_type": "stream",
     "text": [
      "OrderedDict([('hidden.weight', tensor([[ 0.3186, -0.7587,  0.3499, -0.0264,  0.4231, -0.0029, -0.4470],\n",
      "        [-0.5340, -0.4924,  0.1587, -0.5130, -0.5120,  0.0723,  0.0522],\n",
      "        [ 0.4094, -0.0160, -0.4631, -0.7529,  0.3200,  0.0030,  0.3455]])), ('hidden.bias', tensor([2.7576, 2.8162, 2.7779])), ('output.weight', tensor([[ 0.0523,  1.9449,  0.3187],\n",
      "        [-1.6196, -1.1628,  0.2580],\n",
      "        [-1.4542, -0.0633, -1.2081],\n",
      "        [-0.1327,  1.0619,  1.8904],\n",
      "        [ 1.5175, -1.2796,  0.2381],\n",
      "        [-1.5125, -0.0163,  1.5253],\n",
      "        [ 0.0256, -1.1797,  1.7432],\n",
      "        [-0.0029,  0.1037,  0.1355],\n",
      "        [-0.0391,  0.0118,  0.1176],\n",
      "        [-0.0166,  1.2566, -1.4628],\n",
      "        [ 1.3978,  0.0046, -1.1620],\n",
      "        [-1.6031,  1.4161, -0.0148],\n",
      "        [ 0.0822, -0.9602, -1.5811],\n",
      "        [ 1.3848,  0.1911,  1.4653],\n",
      "        [ 1.5415,  1.2094,  0.1087],\n",
      "        [-0.1495, -1.8845, -0.0965]])), ('output.bias', tensor([-6.1831,  7.2489,  7.7801, -7.6086, -1.2018,  0.0105, -1.3828,  1.4554,\n",
      "         1.8566,  0.7369, -0.4757,  0.4945,  7.1202, -8.1055, -7.6285,  6.1263]))])\n"
     ]
    }
   ],
   "source": [
    "import torch\n",
    "n = 3\n",
    "model = torch.load(f'Hamming74/Result/Model/SLNN_CPU/SLNN_model_hiddenlayer{n}_BER0.pth')\n",
    "print(model)"
   ],
   "metadata": {
    "collapsed": false,
    "ExecuteTime": {
     "end_time": "2024-02-16T12:53:47.134661Z",
     "start_time": "2024-02-16T12:53:47.129265Z"
    }
   },
   "id": "fe1d9a51737f0658",
   "execution_count": 36
  },
  {
   "cell_type": "code",
   "outputs": [],
   "source": [],
   "metadata": {
    "collapsed": false
   },
   "id": "3689e2ad851715ef"
  }
 ],
 "metadata": {
  "kernelspec": {
   "display_name": "Python 3",
   "language": "python",
   "name": "python3"
  },
  "language_info": {
   "codemirror_mode": {
    "name": "ipython",
    "version": 2
   },
   "file_extension": ".py",
   "mimetype": "text/x-python",
   "name": "python",
   "nbconvert_exporter": "python",
   "pygments_lexer": "ipython2",
   "version": "2.7.6"
  }
 },
 "nbformat": 4,
 "nbformat_minor": 5
}
