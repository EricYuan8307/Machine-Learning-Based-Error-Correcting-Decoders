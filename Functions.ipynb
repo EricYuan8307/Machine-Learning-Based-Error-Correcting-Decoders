{
 "cells": [
  {
   "cell_type": "code",
   "execution_count": 3,
   "id": "initial_id",
   "metadata": {
    "collapsed": true,
    "ExecuteTime": {
     "end_time": "2024-03-24T16:53:59.783405Z",
     "start_time": "2024-03-24T16:53:59.768526Z"
    }
   },
   "outputs": [
    {
     "data": {
      "text/plain": "tensor([[1, 0, 0, 0, 0, 1, 1, 0, 0, 0],\n        [0, 1, 0, 0, 0, 0, 1, 1, 0, 0],\n        [0, 0, 1, 0, 0, 0, 0, 1, 1, 0],\n        [0, 0, 0, 1, 0, 0, 0, 0, 1, 1],\n        [0, 0, 0, 0, 1, 1, 0, 0, 0, 1]], dtype=torch.int32)"
     },
     "execution_count": 3,
     "metadata": {},
     "output_type": "execute_result"
    }
   ],
   "source": [
    "import torch\n",
    "\n",
    "# Original matrix provided by the user\n",
    "matrix = torch.tensor([\n",
    "    [1, 0, 0, 0, 0],\n",
    "                                          [0, 1, 0, 0, 0],\n",
    "                                          [0, 0, 1, 0, 0],\n",
    "                                          [0, 0, 0, 1, 0],\n",
    "                                          [0, 0, 0, 0, 1],\n",
    "                                          [1, 0, 0, 0, 1],\n",
    "                                          [1, 1, 0, 0, 0],\n",
    "                                          [0, 1, 1, 0, 0],\n",
    "                                          [0, 0, 1, 1, 0],\n",
    "                                          [0, 0, 0, 1, 1]\n",
    "], dtype=torch.int)\n",
    "\n",
    "\n",
    "# Compute the transpose of the matrix\n",
    "transposed_matrix = matrix.t()\n",
    "\n",
    "transposed_matrix\n"
   ]
  },
  {
   "cell_type": "code",
   "outputs": [
    {
     "data": {
      "text/plain": "tensor([[1, 0, 0, 0, 1, 1, 0, 0, 0, 0],\n        [1, 1, 0, 0, 0, 0, 1, 0, 0, 0],\n        [0, 1, 1, 0, 0, 0, 0, 1, 0, 0],\n        [0, 0, 1, 1, 0, 0, 0, 0, 1, 0],\n        [0, 0, 0, 1, 1, 0, 0, 0, 0, 1]], dtype=torch.int32)"
     },
     "execution_count": 7,
     "metadata": {},
     "output_type": "execute_result"
    }
   ],
   "source": [
    "import torch\n",
    "\n",
    "# Given generator matrix G\n",
    "G = torch.tensor([[1, 0, 0, 0, 0, 1, 1, 0, 0, 0],\n",
    "        [0, 1, 0, 0, 0, 0, 1, 1, 0, 0],\n",
    "        [0, 0, 1, 0, 0, 0, 0, 1, 1, 0],\n",
    "        [0, 0, 0, 1, 0, 0, 0, 0, 1, 1],\n",
    "        [0, 0, 0, 0, 1, 1, 0, 0, 0, 1]], dtype=torch.int32)\n",
    "\n",
    "\n",
    "r = G.shape[1] - G.shape[0]\n",
    "\n",
    "# Extracting P from G\n",
    "P = G[:, G.shape[0]:]  # G is [I|P], so P starts from the n th column\n",
    "\n",
    "# Constructing H = [P^T|I]\n",
    "P_T = P.T  # Transpose of P\n",
    "I_n = torch.eye(r, dtype=torch.int)  # 13x13 Identity matrix\n",
    "\n",
    "# Concatenating P^T and I to form H\n",
    "H = torch.cat((P_T, I_n), dim=1)\n",
    "\n",
    "H\n"
   ],
   "metadata": {
    "collapsed": false,
    "ExecuteTime": {
     "end_time": "2024-03-24T19:02:48.347305Z",
     "start_time": "2024-03-24T19:02:48.339663Z"
    }
   },
   "id": "534742e83a22cf71",
   "execution_count": 7
  },
  {
   "cell_type": "code",
   "outputs": [],
   "source": [
    "import torch\n",
    "\n",
    "# Your input tensor\n",
    "input_tensor = torch.tensor([[ 0.0000,  0.0000,  0.7195,  0.0000,  0.0000,  0.7038,  0.0000],\n",
    "        [ 0.0000,  0.0000,  0.0000,  0.7659,  0.0000,  0.7190,  0.0000],\n",
    "        [ 0.0000,  0.0000,  0.0000,  0.0000, -1.1143,  0.0000,  0.0000],\n",
    "        [ 0.0000,  0.0000,  0.0000,  0.0000,  0.0000,  0.0000, -0.8998],\n",
    "        [ 0.0000,  1.2054,  0.0000,  0.0000,  0.0000,  0.0000,  0.0000],\n",
    "        [ 0.6529,  0.0000,  0.6603,  0.0000,  0.0000,  0.0000,  0.0000],\n",
    "        [-0.6563,  0.0000,  0.0000,  0.0000,  0.0000,  0.0000,  0.0000]])\n",
    "\n",
    "# Apply thresholding operation\n",
    "output_tensor = torch.where(input_tensor != 0, torch.tensor(1), torch.tensor(0))\n",
    "print(output_tensor)"
   ],
   "metadata": {
    "collapsed": false
   },
   "id": "1e5a8d41c954f6ee",
   "execution_count": 0
  },
  {
   "cell_type": "code",
   "outputs": [
    {
     "name": "stdout",
     "output_type": "stream",
     "text": [
      "[[1 0 0 1 0 1 0 0 1 0 0 1 1 1 1 0 1 0 1 0 1 1 0 0 0 0 0 0 0 0 0]\n",
      " [0 1 0 0 1 0 1 0 0 1 0 0 1 1 1 1 0 1 0 1 0 1 1 0 0 0 0 0 0 0 0]\n",
      " [0 0 1 0 0 1 0 1 0 0 1 0 0 1 1 1 1 0 1 0 1 0 1 1 0 0 0 0 0 0 0]\n",
      " [0 0 0 1 0 0 1 0 1 0 0 1 0 0 1 1 1 1 0 1 0 1 0 1 1 0 0 0 0 0 0]\n",
      " [0 0 0 0 1 0 0 1 0 1 0 0 1 0 0 1 1 1 1 0 1 0 1 0 1 1 0 0 0 0 0]\n",
      " [0 0 0 0 0 1 0 0 1 0 1 0 0 1 0 0 1 1 1 1 0 1 0 1 0 1 1 0 0 0 0]\n",
      " [0 0 0 0 0 0 1 0 0 1 0 1 0 0 1 0 0 1 1 1 1 0 1 0 1 0 1 1 0 0 0]\n",
      " [0 0 0 0 0 0 0 1 0 0 1 0 1 0 0 1 0 0 1 1 1 1 0 1 0 1 0 1 1 0 0]\n",
      " [0 0 0 0 0 0 0 0 1 0 0 1 0 1 0 0 1 0 0 1 1 1 1 0 1 0 1 0 1 1 0]\n",
      " [0 0 0 0 0 0 0 0 0 1 0 0 1 0 1 0 0 1 0 0 1 1 1 1 0 1 0 1 0 1 1]]\n"
     ]
    }
   ],
   "source": [
    "import galois\n",
    "\n",
    "# Initialize your BCH code\n",
    "bch = galois.BCH(31,21)\n",
    "print(bch.H)\n",
    "\n",
    "# # Convert the generator polynomial to a list of integers (for compatibility with the join method)\n",
    "# # and then convert each integer to a string.\n",
    "# generator_polynomial_as_strings = list(map(str, bch.G))\n",
    "# \n",
    "# # Join the string representations with commas to create a single string that is CSV-friendly\n",
    "# csv_content = ','.join(generator_polynomial_as_strings)\n",
    "# \n",
    "# # Write the CSV content to a file\n",
    "# with open('BCH255_239.csv', 'w') as file:\n",
    "#     file.write(csv_content)"
   ],
   "metadata": {
    "collapsed": false,
    "ExecuteTime": {
     "end_time": "2024-03-24T15:22:04.212582Z",
     "start_time": "2024-03-24T15:22:04.184231Z"
    }
   },
   "id": "97f9420832c9d258",
   "execution_count": 15
  },
  {
   "cell_type": "code",
   "outputs": [
    {
     "name": "stdout",
     "output_type": "stream",
     "text": [
      "tensor([[1, 0, 0, 1, 0, 1, 0, 0, 1, 0, 0, 1, 1, 1, 1, 0, 1, 0, 1, 0, 1, 1, 0, 0,\n",
      "         0, 0, 0, 0, 0, 0, 0],\n",
      "        [0, 1, 0, 0, 1, 0, 1, 0, 0, 1, 0, 0, 1, 1, 1, 1, 0, 1, 0, 1, 0, 1, 1, 0,\n",
      "         0, 0, 0, 0, 0, 0, 0],\n",
      "        [0, 0, 1, 0, 0, 1, 0, 1, 0, 0, 1, 0, 0, 1, 1, 1, 1, 0, 1, 0, 1, 0, 1, 1,\n",
      "         0, 0, 0, 0, 0, 0, 0],\n",
      "        [0, 0, 0, 1, 0, 0, 1, 0, 1, 0, 0, 1, 0, 0, 1, 1, 1, 1, 0, 1, 0, 1, 0, 1,\n",
      "         1, 0, 0, 0, 0, 0, 0],\n",
      "        [0, 0, 0, 0, 1, 0, 0, 1, 0, 1, 0, 0, 1, 0, 0, 1, 1, 1, 1, 0, 1, 0, 1, 0,\n",
      "         1, 1, 0, 0, 0, 0, 0],\n",
      "        [0, 0, 0, 0, 0, 1, 0, 0, 1, 0, 1, 0, 0, 1, 0, 0, 1, 1, 1, 1, 0, 1, 0, 1,\n",
      "         0, 1, 1, 0, 0, 0, 0],\n",
      "        [0, 0, 0, 0, 0, 0, 1, 0, 0, 1, 0, 1, 0, 0, 1, 0, 0, 1, 1, 1, 1, 0, 1, 0,\n",
      "         1, 0, 1, 1, 0, 0, 0],\n",
      "        [0, 0, 0, 0, 0, 0, 0, 1, 0, 0, 1, 0, 1, 0, 0, 1, 0, 0, 1, 1, 1, 1, 0, 1,\n",
      "         0, 1, 0, 1, 1, 0, 0],\n",
      "        [0, 0, 0, 0, 0, 0, 0, 0, 1, 0, 0, 1, 0, 1, 0, 0, 1, 0, 0, 1, 1, 1, 1, 0,\n",
      "         1, 0, 1, 0, 1, 1, 0],\n",
      "        [0, 0, 0, 0, 0, 0, 0, 0, 0, 1, 0, 0, 1, 0, 1, 0, 0, 1, 0, 0, 1, 1, 1, 1,\n",
      "         0, 1, 0, 1, 0, 1, 1]])\n"
     ]
    }
   ],
   "source": [
    "m = torch.tensor([\n",
    "    [1, 0, 0, 1, 0, 1, 0, 0, 1, 0, 0, 1, 1, 1, 1, 0, 1, 0, 1, 0, 1, 1, 0, 0, 0, 0, 0, 0, 0, 0, 0],\n",
    "    [0, 1, 0, 0, 1, 0, 1, 0, 0, 1, 0, 0, 1, 1, 1, 1, 0, 1, 0, 1, 0, 1, 1, 0, 0, 0, 0, 0, 0, 0, 0],\n",
    "    [0, 0, 1, 0, 0, 1, 0, 1, 0, 0, 1, 0, 0, 1, 1, 1, 1, 0, 1, 0, 1, 0, 1, 1, 0, 0, 0, 0, 0, 0, 0],\n",
    "    [0, 0, 0, 1, 0, 0, 1, 0, 1, 0, 0, 1, 0, 0, 1, 1, 1, 1, 0, 1, 0, 1, 0, 1, 1, 0, 0, 0, 0, 0, 0],\n",
    "    [0, 0, 0, 0, 1, 0, 0, 1, 0, 1, 0, 0, 1, 0, 0, 1, 1, 1, 1, 0, 1, 0, 1, 0, 1, 1, 0, 0, 0, 0, 0],\n",
    "    [0, 0, 0, 0, 0, 1, 0, 0, 1, 0, 1, 0, 0, 1, 0, 0, 1, 1, 1, 1, 0, 1, 0, 1, 0, 1, 1, 0, 0, 0, 0],\n",
    "    [0, 0, 0, 0, 0, 0, 1, 0, 0, 1, 0, 1, 0, 0, 1, 0, 0, 1, 1, 1, 1, 0, 1, 0, 1, 0, 1, 1, 0, 0, 0],\n",
    "    [0, 0, 0, 0, 0, 0, 0, 1, 0, 0, 1, 0, 1, 0, 0, 1, 0, 0, 1, 1, 1, 1, 0, 1, 0, 1, 0, 1, 1, 0, 0],\n",
    "    [0, 0, 0, 0, 0, 0, 0, 0, 1, 0, 0, 1, 0, 1, 0, 0, 1, 0, 0, 1, 1, 1, 1, 0, 1, 0, 1, 0, 1, 1, 0],\n",
    "    [0, 0, 0, 0, 0, 0, 0, 0, 0, 1, 0, 0, 1, 0, 1, 0, 0, 1, 0, 0, 1, 1, 1, 1, 0, 1, 0, 1, 0, 1, 1]])\n",
    "\n",
    "print(m)"
   ],
   "metadata": {
    "collapsed": false,
    "ExecuteTime": {
     "end_time": "2024-03-24T15:27:21.640843Z",
     "start_time": "2024-03-24T15:27:21.629861Z"
    }
   },
   "id": "8f414b2e75429303",
   "execution_count": 19
  },
  {
   "cell_type": "code",
   "outputs": [
    {
     "data": {
      "text/plain": "tensor([[0, 0, 0, 0, 0],\n        [0, 0, 0, 0, 0],\n        [0, 0, 0, 0, 0],\n        [0, 0, 0, 0, 0],\n        [0, 0, 0, 0, 0]], dtype=torch.int32)"
     },
     "execution_count": 5,
     "metadata": {},
     "output_type": "execute_result"
    }
   ],
   "source": [
    "G = torch.tensor([[1, 0, 0, 0, 0, 1, 1, 0, 0, 0],\n",
    "        [0, 1, 0, 0, 0, 0, 1, 1, 0, 0],\n",
    "        [0, 0, 1, 0, 0, 0, 0, 1, 1, 0],\n",
    "        [0, 0, 0, 1, 0, 0, 0, 0, 1, 1],\n",
    "        [0, 0, 0, 0, 1, 1, 0, 0, 0, 1]], dtype=torch.int32)\n",
    "\n",
    "H = torch.tensor([[1, 0, 0, 0, 1, 1, 0, 0, 0, 0],\n",
    "        [1, 1, 0, 0, 0, 0, 1, 0, 0, 0],\n",
    "        [0, 1, 1, 0, 0, 0, 0, 1, 0, 0],\n",
    "        [0, 0, 1, 1, 0, 0, 0, 0, 1, 0],\n",
    "        [0, 0, 0, 1, 1, 0, 0, 0, 0, 1]], dtype=torch.int32)\n",
    "\n",
    "# Transpose of H\n",
    "H_T = H.t()\n",
    "\n",
    "# Calculating the product of G and H^T\n",
    "GH_T_product = torch.mm(G, H_T)%2\n",
    "\n",
    "GH_T_product"
   ],
   "metadata": {
    "collapsed": false,
    "ExecuteTime": {
     "end_time": "2024-03-24T17:04:54.360221Z",
     "start_time": "2024-03-24T17:04:54.349537Z"
    }
   },
   "id": "6be4a24c53b628d4",
   "execution_count": 5
  },
  {
   "cell_type": "code",
   "outputs": [],
   "source": [],
   "metadata": {
    "collapsed": false
   },
   "id": "768ea810a7a0c3f7"
  }
 ],
 "metadata": {
  "kernelspec": {
   "display_name": "Python 3",
   "language": "python",
   "name": "python3"
  },
  "language_info": {
   "codemirror_mode": {
    "name": "ipython",
    "version": 2
   },
   "file_extension": ".py",
   "mimetype": "text/x-python",
   "name": "python",
   "nbconvert_exporter": "python",
   "pygments_lexer": "ipython2",
   "version": "2.7.6"
  }
 },
 "nbformat": 4,
 "nbformat_minor": 5
}
