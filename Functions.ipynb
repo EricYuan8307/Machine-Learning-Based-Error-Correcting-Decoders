{
 "cells": [
  {
   "cell_type": "code",
   "execution_count": 1,
   "id": "initial_id",
   "metadata": {
    "collapsed": true,
    "ExecuteTime": {
     "end_time": "2024-03-01T10:55:02.436144Z",
     "start_time": "2024-03-01T10:55:01.285661Z"
    }
   },
   "outputs": [
    {
     "data": {
      "text/plain": "tensor([[1, 1, 1, 0, 0, 0, 0],\n        [1, 0, 0, 1, 1, 0, 0],\n        [0, 1, 0, 1, 0, 1, 0],\n        [1, 1, 0, 1, 0, 0, 1]], dtype=torch.int32)"
     },
     "execution_count": 1,
     "metadata": {},
     "output_type": "execute_result"
    }
   ],
   "source": [
    "import torch\n",
    "\n",
    "# Original matrix provided by the user\n",
    "matrix = torch.tensor([[1, 1, 0, 1],\n",
    "                                          [1, 0, 1, 1],\n",
    "                                          [1, 0, 0, 0],\n",
    "                                          [0, 1, 1, 1],\n",
    "                                          [0, 1, 0, 0],\n",
    "                                          [0, 0, 1, 0],\n",
    "                                          [0, 0, 0, 1]], dtype=torch.int)\n",
    "\n",
    "\n",
    "# Compute the transpose of the matrix\n",
    "transposed_matrix = matrix.t()\n",
    "\n",
    "transposed_matrix\n"
   ]
  },
  {
   "cell_type": "code",
   "outputs": [
    {
     "name": "stdout",
     "output_type": "stream",
     "text": [
      "modified model: OrderedDict([('hidden.weight', tensor([[ 0.0000,  0.0000,  0.0000,  0.0000,  0.0000,  0.8669,  0.0000],\n",
      "        [ 0.0000,  0.0000,  0.0000,  0.9181,  0.0000, -0.0000,  0.0000],\n",
      "        [ 0.0000,  0.0000,  0.0000,  0.0000, -0.7073,  0.0000,  0.0000],\n",
      "        [ 0.0000,  0.0000,  0.0000,  0.0000,  0.0000,  0.0000, -0.7642],\n",
      "        [ 0.0000,  0.8107,  0.0000,  0.0000,  0.0000,  0.0000,  0.0000],\n",
      "        [ 0.0000,  0.0000,  0.9006,  0.0000,  0.0000,  0.0000,  0.0000],\n",
      "        [-0.7867,  0.0000,  0.0000,  0.0000,  0.0000,  0.0000,  0.0000]])), ('hidden.bias', tensor([1.8841, 1.9269, 1.8115, 1.6432, 1.6916, 1.8826, 1.6568])), ('output.weight', tensor([[-1.1991, -1.4018,  1.5849,  1.4432, -1.5371, -1.0504,  1.4672],\n",
      "        [-1.3272,  1.1465,  1.5699, -1.5379,  1.5490, -1.0451, -1.5187],\n",
      "        [ 1.2623,  1.1467,  1.6171,  1.4480,  1.5067, -1.1419,  1.5148],\n",
      "        [ 1.3277, -1.3934,  1.5997, -1.5279, -1.4914, -1.1211, -1.4701],\n",
      "        [-1.2237,  1.0970, -1.7622,  1.5017, -1.4868, -1.0893, -1.5060],\n",
      "        [-1.2464, -1.4217, -1.7048, -1.5456,  1.5410, -1.1072,  1.4834],\n",
      "        [ 1.2703, -1.3661, -1.7918,  1.4719,  1.5005, -1.1505, -1.5204],\n",
      "        [ 1.2285,  1.1245, -1.7469, -1.5705, -1.5019, -1.1274,  1.4912],\n",
      "        [-1.2558, -1.4435,  1.6138,  1.5183,  1.4673,  1.5165, -1.4956],\n",
      "        [-1.3076,  1.1695,  1.5870, -1.5462, -1.4565,  1.4943,  1.4729],\n",
      "        [ 1.2423,  1.1975,  1.6000,  1.4810, -1.4731,  1.4293, -1.5380],\n",
      "        [ 1.3150, -1.4244,  1.5957, -1.5487,  1.4991,  1.4152,  1.4646],\n",
      "        [-1.2791,  1.1392, -1.7243,  1.4614,  1.5174,  1.4807,  1.4787],\n",
      "        [-1.2671, -1.3896, -1.7469, -1.5443, -1.5024,  1.5070, -1.5116],\n",
      "        [ 1.2980, -1.4712, -1.7499,  1.4525, -1.5470,  1.4457,  1.4904],\n",
      "        [ 1.2129,  1.1551, -1.7452, -1.5248,  1.5314,  1.3669, -1.4801]])), ('output.bias', tensor([  1.5945,   1.7908, -12.8481,   6.9228,   7.9525,   7.8096,   3.0990,\n",
      "          3.4426,  -3.4182,  -3.1354,  -7.8672,  -7.8541,  -6.9651,  12.7827,\n",
      "         -1.7556,  -1.5725]))])\n"
     ]
    }
   ],
   "source": [
    "import torch\n",
    "order = 10\n",
    "# modified_model_pth = f\"Hamming74/Result/Model/SLNN_decrease_hidden.weight_cpu/SLNN_model_hiddenlayer{threshold}_BER0.pth\"\n",
    "modified_model_pth = \"Hamming74/Result/Model/SLNN_edgedeleted42_hidden.weight_cpu/SLNN7_edgedeleted42_cpu.pth\"\n",
    "print(\"modified model:\", torch.load(modified_model_pth))"
   ],
   "metadata": {
    "collapsed": false,
    "ExecuteTime": {
     "end_time": "2024-03-07T16:17:52.440924Z",
     "start_time": "2024-03-07T16:17:51.530930Z"
    }
   },
   "id": "a9876b58dfc0d255",
   "execution_count": 1
  },
  {
   "cell_type": "code",
   "outputs": [
    {
     "name": "stdout",
     "output_type": "stream",
     "text": [
      "tensor([[0, 0, 1, 0, 0, 1, 0],\n",
      "        [0, 0, 0, 1, 0, 1, 0],\n",
      "        [0, 0, 0, 0, 1, 0, 0],\n",
      "        [0, 0, 0, 0, 0, 0, 1],\n",
      "        [0, 1, 0, 0, 0, 0, 0],\n",
      "        [1, 0, 1, 0, 0, 0, 0],\n",
      "        [1, 0, 0, 0, 0, 0, 0]])\n"
     ]
    }
   ],
   "source": [
    "import torch\n",
    "\n",
    "# Your input tensor\n",
    "input_tensor = torch.tensor([[ 0.0000,  0.0000,  0.7195,  0.0000,  0.0000,  0.7038,  0.0000],\n",
    "        [ 0.0000,  0.0000,  0.0000,  0.7659,  0.0000,  0.7190,  0.0000],\n",
    "        [ 0.0000,  0.0000,  0.0000,  0.0000, -1.1143,  0.0000,  0.0000],\n",
    "        [ 0.0000,  0.0000,  0.0000,  0.0000,  0.0000,  0.0000, -0.8998],\n",
    "        [ 0.0000,  1.2054,  0.0000,  0.0000,  0.0000,  0.0000,  0.0000],\n",
    "        [ 0.6529,  0.0000,  0.6603,  0.0000,  0.0000,  0.0000,  0.0000],\n",
    "        [-0.6563,  0.0000,  0.0000,  0.0000,  0.0000,  0.0000,  0.0000]])\n",
    "\n",
    "# Apply thresholding operation\n",
    "output_tensor = torch.where(input_tensor != 0, torch.tensor(1), torch.tensor(0))\n",
    "print(output_tensor)"
   ],
   "metadata": {
    "collapsed": false,
    "ExecuteTime": {
     "end_time": "2024-02-28T17:16:32.065665Z",
     "start_time": "2024-02-28T17:16:32.055763Z"
    }
   },
   "id": "68f0ffc4c3f39ba6",
   "execution_count": 42
  },
  {
   "cell_type": "code",
   "outputs": [
    {
     "data": {
      "text/plain": "tensor([0.0000e+00, 0.0000e+00, 0.0000e+00, 0.0000e+00, 0.0000e+00, 0.0000e+00,\n        0.0000e+00, 0.0000e+00, 0.0000e+00, 2.1629e-04, 7.8333e-03, 1.8974e-02,\n        2.0154e-02, 2.1156e-02, 2.5344e-02, 2.6341e-02, 3.3531e-02, 3.3845e-02,\n        3.4220e-02, 3.9235e-02, 4.2089e-02, 4.2153e-02, 5.5994e-02, 5.7328e-02,\n        1.5423e-01, 1.6127e-01, 1.7117e-01, 1.8220e-01, 1.9343e-01, 1.9478e-01,\n        2.0990e-01, 2.1766e-01, 2.2345e-01, 2.2347e-01, 2.3885e-01, 2.3975e-01,\n        2.4509e-01, 2.4717e-01, 2.4962e-01, 2.5171e-01, 2.5360e-01, 2.5416e-01,\n        2.6077e-01, 2.7130e-01, 2.7892e-01, 2.9003e-01, 2.9127e-01, 3.7997e-01,\n        8.5781e-01])"
     },
     "execution_count": 1,
     "metadata": {},
     "output_type": "execute_result"
    }
   ],
   "source": [
    "import torch\n",
    "\n",
    "# 定义张量\n",
    "tensor = torch.tensor([\n",
    "        2.2347e-01, 0.0000e+00, 2.4717e-01, 2.0990e-01, 3.4220e-02, 2.5171e-01,\n",
    "         3.3531e-02,\n",
    "        2.6341e-02, 0.0000e+00, 0.0000e+00, 2.9127e-01, 2.1766e-01, 2.7130e-01,\n",
    "         1.9343e-01,\n",
    "        2.1156e-02, 4.2089e-02, 4.2153e-02, 1.7117e-01, 3.7997e-01, 1.8220e-01,\n",
    "         1.6127e-01,\n",
    "        2.3885e-01, 0.0000e+00, 2.5360e-01, 0.0000e+00, 1.9478e-01, 3.3845e-02,\n",
    "         2.7892e-01,\n",
    "        0.0000e+00, 8.5781e-01, 7.8333e-03, 1.8974e-02, 5.5994e-02, 2.0154e-02,\n",
    "         3.9235e-02,\n",
    "        2.5416e-01, 0.0000e+00, 2.6077e-01, 2.4509e-01, 2.1629e-04, 2.3975e-01,\n",
    "         0.0000e+00,\n",
    "        2.4962e-01, 0.0000e+00, 2.2345e-01, 5.7328e-02, 1.5423e-01, 2.5344e-02,\n",
    "         2.9003e-01\n",
    "])\n",
    "\n",
    "sorted_tensor, indices = tensor.sort()\n",
    "\n",
    "sorted_tensor"
   ],
   "metadata": {
    "collapsed": false,
    "ExecuteTime": {
     "end_time": "2024-02-29T03:22:47.220295Z",
     "start_time": "2024-02-29T03:22:46.449938Z"
    }
   },
   "id": "d026bf1fcce61c25",
   "execution_count": 1
  },
  {
   "cell_type": "code",
   "outputs": [
    {
     "name": "stdout",
     "output_type": "stream",
     "text": [
      "\\begin{table}[htbp]\n",
      "    \\centering\n",
      "    \\begin{tabular}{|c|c|c|c|c|c|c|c|}\n",
      "        \\hline\n",
      "        \\textbf{Input Layer Neurons} & \\textbf{} & \\textbf{} & \\textbf{} & \\textbf{} & \\textbf{} & \\textbf{} & \\textbf{}\\\\\n",
      "        \\hline\n",
      "        1 & 0.5807 & 0.0 & 0.7195 & -0.5115 & -0.1748 & 0.7038 & -0.1317 \\\\\n",
      "        \\hline\n",
      "        2 & 0.1696 & 0.0 & -0.0854 & 0.7659 & -0.4676 & 0.719 & 0.343 \\\\\n",
      "        \\hline\n",
      "        3 & 0.0835 & 0.0884 & 0.1289 & -0.2663 & -1.1143 & -0.3482 & 0.3153 \\\\\n",
      "        \\hline\n",
      "        4 & 0.497 & 0.0 & -0.4501 & 0.0 & -0.3754 & 0.0885 & -0.8998 \\\\\n",
      "        \\hline\n",
      "        5 & 0.0 & 1.2054 & 0.1353 & 0.1299 & -0.1366 & 0.0732 & -0.0926 \\\\\n",
      "        \\hline\n",
      "        6 & 0.6529 & 0.0 & 0.6603 & 0.608 & -0.0896 & -0.5479 & 0.0 \\\\\n",
      "        \\hline\n",
      "        7 & -0.6563 & -0.0928 & 0.5427 & 0.294 & -0.3917 & 0.2601 & -0.624 \\\\\n",
      "        \\hline\n",
      "    \\end{tabular}\n",
      "    \\caption{SLNN, N = 7, normalized absolute weights}\n",
      "\\end{table}\n"
     ]
    }
   ],
   "source": [
    "# 数据列表\n",
    "data = [[ 0.5807,  0.0000,  0.7195, -0.5115, -0.1748,  0.7038, -0.1317],\n",
    "        [ 0.1696,  0.0000, -0.0854,  0.7659, -0.4676,  0.7190,  0.3430],\n",
    "        [ 0.0835,  0.0884,  0.1289, -0.2663, -1.1143, -0.3482,  0.3153],\n",
    "        [ 0.4970,  0.0000, -0.4501,  0.0000, -0.3754,  0.0885, -0.8998],\n",
    "        [ 0.0000,  1.2054,  0.1353,  0.1299, -0.1366,  0.0732, -0.0926],\n",
    "        [ 0.6529,  0.0000,  0.6603,  0.6080, -0.0896, -0.5479,  0.0000],\n",
    "        [-0.6563, -0.0928,  0.5427,  0.2940, -0.3917,  0.2601, -0.6240]]\n",
    "\n",
    "# 生成 LaTeX 代码\n",
    "latex_code = \"\\\\begin{table}[htbp]\\n\" \\\n",
    "             \"    \\\\centering\\n\" \\\n",
    "             \"    \\\\begin{tabular}{|c|c|c|c|c|c|c|c|}\\n\" \\\n",
    "             \"        \\\\hline\\n\" \\\n",
    "             \"        \\\\textbf{Input Layer Neurons} & \\\\textbf{} & \\\\textbf{} & \\\\textbf{} & \\\\textbf{} & \" \\\n",
    "             \"\\\\textbf{} & \\\\textbf{} & \\\\textbf{}\\\\\\\\\\n\" \\\n",
    "             \"        \\\\hline\\n\"\n",
    "\n",
    "# 遍历数据列表并生成表格行\n",
    "for i, row in enumerate(data):\n",
    "    latex_code += f\"        {i+1} & {' & '.join(map(str, row))} \\\\\\\\\\n\"\n",
    "    latex_code += \"        \\\\hline\\n\"\n",
    "\n",
    "# 添加表格结尾\n",
    "latex_code += \"    \\\\end{tabular}\\n\" \\\n",
    "              \"    \\\\caption{SLNN, N = 7, normalized absolute weights}\\n\" \\\n",
    "              \"\\\\end{table}\"\n",
    "\n",
    "# 输出 LaTeX 代码\n",
    "print(latex_code)\n"
   ],
   "metadata": {
    "collapsed": false,
    "ExecuteTime": {
     "end_time": "2024-02-25T14:39:55.995288Z",
     "start_time": "2024-02-25T14:39:55.990206Z"
    }
   },
   "id": "8972d4756cfb0b28",
   "execution_count": 11
  },
  {
   "cell_type": "code",
   "outputs": [
    {
     "name": "stdout",
     "output_type": "stream",
     "text": [
      "snr 0\n",
      "order tensor(1, dtype=torch.int32)\n",
      "order tensor(2, dtype=torch.int32)\n",
      "order tensor(3, dtype=torch.int32)\n",
      "order tensor(4, dtype=torch.int32)\n",
      "order tensor(5, dtype=torch.int32)\n",
      "order tensor(6, dtype=torch.int32)\n",
      "order tensor(7, dtype=torch.int32)\n",
      "snr 8\n",
      "order tensor(1, dtype=torch.int32)\n",
      "order tensor(2, dtype=torch.int32)\n",
      "order tensor(3, dtype=torch.int32)\n",
      "order tensor(4, dtype=torch.int32)\n",
      "order tensor(5, dtype=torch.int32)\n",
      "order tensor(6, dtype=torch.int32)\n",
      "order tensor(7, dtype=torch.int32)\n"
     ]
    }
   ],
   "source": [
    "import torch\n",
    "order = torch.arange(1, 8, 1).to(torch.int)\n",
    "\n",
    "snr = [0, 8]\n",
    "for i in range(len(snr)):\n",
    "    print(\"snr\", snr[i])\n",
    "\n",
    "    for j in range(len(order)):\n",
    "        print(\"order\", order[j])"
   ],
   "metadata": {
    "collapsed": false,
    "ExecuteTime": {
     "end_time": "2024-03-08T13:48:28.919075Z",
     "start_time": "2024-03-08T13:48:27.832748Z"
    }
   },
   "id": "e40424615971445",
   "execution_count": 2
  },
  {
   "cell_type": "code",
   "outputs": [],
   "source": [],
   "metadata": {
    "collapsed": false
   },
   "id": "4c17c8d16139cdac"
  }
 ],
 "metadata": {
  "kernelspec": {
   "display_name": "Python 3",
   "language": "python",
   "name": "python3"
  },
  "language_info": {
   "codemirror_mode": {
    "name": "ipython",
    "version": 2
   },
   "file_extension": ".py",
   "mimetype": "text/x-python",
   "name": "python",
   "nbconvert_exporter": "python",
   "pygments_lexer": "ipython2",
   "version": "2.7.6"
  }
 },
 "nbformat": 4,
 "nbformat_minor": 5
}
